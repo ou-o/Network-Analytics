{
 "cells": [
  {
   "cell_type": "markdown",
   "metadata": {},
   "source": [
    "## Task III - Studying the Impact of Data Pre-processing and Outlier Removal on the Prediction Accuracy\n",
    "### EQ 2420 - Network Analytics\n",
    "\n",
    "Ruihan Zhang\n",
    "Nov 10, 2022"
   ]
  },
  {
   "cell_type": "code",
   "execution_count": 12,
   "metadata": {},
   "outputs": [
    {
     "name": "stdout",
     "output_type": "stream",
     "text": [
      "pandas = 1.4.4\n",
      "numpy = 1.23.4\n"
     ]
    }
   ],
   "source": [
    "import pandas as pd\n",
    "import numpy as np\n",
    "import matplotlib.pyplot as plt\n",
    "import sklearn.ensemble\n",
    "import sklearn.metrics\n",
    "print('pandas =', pd.__version__)\n",
    "print('numpy =', np.__version__)\n",
    "\n",
    "X_VoD = pd.read_csv('./JNSM_VoD_flashcrowd_2/X.csv').drop(columns=['TimeStamp','Unnamed: 0'])\n",
    "Y_VoD = pd.read_csv('./JNSM_VoD_flashcrowd_2/Y.csv').drop(columns=['TimeStamp','Unnamed: 0'])['DispFrames']\n",
    "X_KV = pd.read_csv('./JNSM_KV_flashcrowd_2/X.csv').drop(columns=['TimeStamp','Unnamed: 0'])\n",
    "Y_KV = pd.read_csv('./JNSM_KV_flashcrowd_2/Y.csv').drop(columns=['TimeStamp','Unnamed: 0'])['ReadsAvg']"
   ]
  },
  {
   "cell_type": "code",
   "execution_count": 13,
   "metadata": {},
   "outputs": [
    {
     "data": {
      "image/png": "[encoded data removed]",
      "text/plain": [
       "<Figure size 432x288 with 1 Axes>"
      ]
     },
     "metadata": {
      "needs_background": "light"
     },
     "output_type": "display_data"
    }
   ],
   "source": [
    "# outlier distribution graph\n",
    "from sklearn import preprocessing\n",
    "X = preprocessing.scale(X_VoD.to_numpy(), axis=0)\n",
    "num = []\n",
    "for T in np.arange(1,100,0.1):\n",
    "    n = X.shape[0] - (np.abs(X) < T).all(axis=1).sum()\n",
    "    num.append(n)\n",
    "plt.plot(np.arange(1,100,0.1), num)\n",
    "plt.ylabel('Number of outliers')\n",
    "plt.xlabel('T')\n",
    "plt.show()"
   ]
  },
  {
   "cell_type": "code",
   "execution_count": 14,
   "metadata": {},
   "outputs": [
    {
     "data": {
      "image/png": "[encoded data removed]",
      "text/plain": [
       "<Figure size 432x288 with 1 Axes>"
      ]
     },
     "metadata": {
      "needs_background": "light"
     },
     "output_type": "display_data"
    }
   ],
   "source": [
    "X = preprocessing.scale(X_KV.to_numpy(), axis=0)\n",
    "num = []\n",
    "for T in np.arange(1,100,0.1):\n",
    "    n = X.shape[0] - (np.abs(X) < T).all(axis=1).sum()\n",
    "    num.append(n)\n",
    "plt.plot(np.arange(1,100,0.1), num)\n",
    "plt.ylabel('Number of outliers')\n",
    "plt.xlabel('T')\n",
    "plt.show()"
   ]
  },
  {
   "cell_type": "code",
   "execution_count": 15,
   "metadata": {},
   "outputs": [
    {
     "name": "stdout",
     "output_type": "stream",
     "text": [
      "Index(['0_i132_intr.s', '0_i133_intr.s', '0_irec.s', '0_idel.s', '0_orq.s',\n",
      "       '0_iseg.s', '0_oseg.s', '1_i127_intr.s', '1_i128_intr.s', '1_oseg.s',\n",
      "       '2_idel.s', '2_iseg.s', '3_i128_intr.s', '3_idel.s', '3_iseg.s',\n",
      "       '3_oseg.s'],\n",
      "      dtype='object')\n",
      "Index(['0_bread.s', '0_bwrtn.s', '1_all_..iowait', '1_all_..idle',\n",
      "       '1_cpu0_.usr', '1_cpu0_.soft', '1_cpu0_.idle', '1_dev252.0_wr_sec.s',\n",
      "       '1_dev252.0_avgrq.sz', '2_cpu9_.idle', '3_cpu9_.iowait',\n",
      "       '3_cpu11_.nice', '3_dev8.5_avgqu.sz', '4_cpu4_.iowait', '4_cpu5_.sys',\n",
      "       '4_cpu5_.iowait'],\n",
      "      dtype='object')\n"
     ]
    }
   ],
   "source": [
    "# our selected features using tree-based method.\n",
    "select_KV = np.load('select_KV.npy')\n",
    "select_VoD = np.load('select_VoD.npy')\n",
    "print(X_KV.columns[sorted(select_KV)])\n",
    "print(X_VoD.columns[sorted(select_KV)])"
   ]
  },
  {
   "cell_type": "code",
   "execution_count": 16,
   "metadata": {},
   "outputs": [],
   "source": [
    "# draw ramdom samples from the dataset to form training set and test set\n",
    "from sklearn.model_selection import train_test_split\n",
    "\n",
    "X_KV_train, X_KV_test, Y_KV_train, Y_KV_test = train_test_split(X_KV, Y_KV, test_size=0.3)\n",
    "\n",
    "X_VoD_train, X_VoD_test, Y_VoD_train, Y_VoD_test = train_test_split(X_VoD, Y_VoD, test_size=0.3)"
   ]
  },
  {
   "cell_type": "code",
   "execution_count": 17,
   "metadata": {},
   "outputs": [],
   "source": [
    "def NMAE(y_true, y_pred):\n",
    "    return abs(y_true - y_pred).mean() / abs(y_pred.mean())"
   ]
  },
  {
   "cell_type": "code",
   "execution_count": 22,
   "metadata": {},
   "outputs": [],
   "source": [
    "from sklearn import neural_network\n",
    "def train(x_train, y_train):\n",
    "    regr = sklearn.linear_model.LinearRegression()\n",
    "    regr.fit(x_train, y_train)\n",
    "    y_pred = regr.predict(x_test)\n",
    "    n1 = NMAE(y_test, y_pred)\n",
    "\n",
    "    regr = sklearn.ensemble.RandomForestRegressor(n_jobs=-1)\n",
    "    regr.fit(x_train, y_train)\n",
    "    y_pred = regr.predict(x_test)\n",
    "    n2 = NMAE(y_test, y_pred)\n",
    "\n",
    "    regr = neural_network.MLPRegressor(hidden_layer_sizes=(10,10,10,10),  learning_rate_init=1e-4, max_iter=3000)\n",
    "    regr.fit(x_train, y_train)\n",
    "    y_pred = regr.predict(x_test)\n",
    "    n3 = NMAE(y_test, y_pred)\n",
    "    return n1, n2, n3"
   ]
  },
  {
   "cell_type": "code",
   "execution_count": 23,
   "metadata": {},
   "outputs": [
    {
     "ename": "KeyboardInterrupt",
     "evalue": "",
     "output_type": "error",
     "traceback": [
      "\u001b[0;31m---------------------------------------------------------------------------\u001b[0m",
      "\u001b[0;31mKeyboardInterrupt\u001b[0m                         Traceback (most recent call last)",
      "Cell \u001b[0;32mIn [23], line 21\u001b[0m\n\u001b[1;32m     19\u001b[0m x_train \u001b[39m=\u001b[39m p\u001b[39m.\u001b[39mminmax_scale(X_VoD_train, axis\u001b[39m=\u001b[39m\u001b[39m1\u001b[39m)\n\u001b[1;32m     20\u001b[0m x_test \u001b[39m=\u001b[39m p\u001b[39m.\u001b[39mminmax_scale(X_VoD_test, axis\u001b[39m=\u001b[39m\u001b[39m1\u001b[39m)\n\u001b[0;32m---> 21\u001b[0m r[\u001b[39m3\u001b[39m,:] \u001b[39m=\u001b[39m train(x_train, y_train)\n\u001b[1;32m     23\u001b[0m x_train \u001b[39m=\u001b[39m p\u001b[39m.\u001b[39mminmax_scale(X_VoD_train, axis\u001b[39m=\u001b[39m\u001b[39m0\u001b[39m)\n\u001b[1;32m     24\u001b[0m x_test \u001b[39m=\u001b[39m p\u001b[39m.\u001b[39mminmax_scale(X_VoD_test, axis\u001b[39m=\u001b[39m\u001b[39m0\u001b[39m)\n",
      "Cell \u001b[0;32mIn [22], line 9\u001b[0m, in \u001b[0;36mtrain\u001b[0;34m(x_train, y_train)\u001b[0m\n\u001b[1;32m      6\u001b[0m n1 \u001b[39m=\u001b[39m NMAE(y_test, y_pred)\n\u001b[1;32m      8\u001b[0m regr \u001b[39m=\u001b[39m sklearn\u001b[39m.\u001b[39mensemble\u001b[39m.\u001b[39mRandomForestRegressor(n_jobs\u001b[39m=\u001b[39m\u001b[39m-\u001b[39m\u001b[39m1\u001b[39m)\n\u001b[0;32m----> 9\u001b[0m regr\u001b[39m.\u001b[39;49mfit(x_train, y_train)\n\u001b[1;32m     10\u001b[0m y_pred \u001b[39m=\u001b[39m regr\u001b[39m.\u001b[39mpredict(x_test)\n\u001b[1;32m     11\u001b[0m n2 \u001b[39m=\u001b[39m NMAE(y_test, y_pred)\n",
      "File \u001b[0;32m~/opt/anaconda3/envs/netAna/lib/python3.8/site-packages/sklearn/ensemble/_forest.py:476\u001b[0m, in \u001b[0;36mBaseForest.fit\u001b[0;34m(self, X, y, sample_weight)\u001b[0m\n\u001b[1;32m    465\u001b[0m trees \u001b[39m=\u001b[39m [\n\u001b[1;32m    466\u001b[0m     \u001b[39mself\u001b[39m\u001b[39m.\u001b[39m_make_estimator(append\u001b[39m=\u001b[39m\u001b[39mFalse\u001b[39;00m, random_state\u001b[39m=\u001b[39mrandom_state)\n\u001b[1;32m    467\u001b[0m     \u001b[39mfor\u001b[39;00m i \u001b[39min\u001b[39;00m \u001b[39mrange\u001b[39m(n_more_estimators)\n\u001b[1;32m    468\u001b[0m ]\n\u001b[1;32m    470\u001b[0m \u001b[39m# Parallel loop: we prefer the threading backend as the Cython code\u001b[39;00m\n\u001b[1;32m    471\u001b[0m \u001b[39m# for fitting the trees is internally releasing the Python GIL\u001b[39;00m\n\u001b[1;32m    472\u001b[0m \u001b[39m# making threading more efficient than multiprocessing in\u001b[39;00m\n\u001b[1;32m    473\u001b[0m \u001b[39m# that case. However, for joblib 0.12+ we respect any\u001b[39;00m\n\u001b[1;32m    474\u001b[0m \u001b[39m# parallel_backend contexts set at a higher level,\u001b[39;00m\n\u001b[1;32m    475\u001b[0m \u001b[39m# since correctness does not rely on using threads.\u001b[39;00m\n\u001b[0;32m--> 476\u001b[0m trees \u001b[39m=\u001b[39m Parallel(\n\u001b[1;32m    477\u001b[0m     n_jobs\u001b[39m=\u001b[39;49m\u001b[39mself\u001b[39;49m\u001b[39m.\u001b[39;49mn_jobs,\n\u001b[1;32m    478\u001b[0m     verbose\u001b[39m=\u001b[39;49m\u001b[39mself\u001b[39;49m\u001b[39m.\u001b[39;49mverbose,\n\u001b[1;32m    479\u001b[0m     prefer\u001b[39m=\u001b[39;49m\u001b[39m\"\u001b[39;49m\u001b[39mthreads\u001b[39;49m\u001b[39m\"\u001b[39;49m,\n\u001b[1;32m    480\u001b[0m )(\n\u001b[1;32m    481\u001b[0m     delayed(_parallel_build_trees)(\n\u001b[1;32m    482\u001b[0m         t,\n\u001b[1;32m    483\u001b[0m         \u001b[39mself\u001b[39;49m\u001b[39m.\u001b[39;49mbootstrap,\n\u001b[1;32m    484\u001b[0m         X,\n\u001b[1;32m    485\u001b[0m         y,\n\u001b[1;32m    486\u001b[0m         sample_weight,\n\u001b[1;32m    487\u001b[0m         i,\n\u001b[1;32m    488\u001b[0m         \u001b[39mlen\u001b[39;49m(trees),\n\u001b[1;32m    489\u001b[0m         verbose\u001b[39m=\u001b[39;49m\u001b[39mself\u001b[39;49m\u001b[39m.\u001b[39;49mverbose,\n\u001b[1;32m    490\u001b[0m         class_weight\u001b[39m=\u001b[39;49m\u001b[39mself\u001b[39;49m\u001b[39m.\u001b[39;49mclass_weight,\n\u001b[1;32m    491\u001b[0m         n_samples_bootstrap\u001b[39m=\u001b[39;49mn_samples_bootstrap,\n\u001b[1;32m    492\u001b[0m     )\n\u001b[1;32m    493\u001b[0m     \u001b[39mfor\u001b[39;49;00m i, t \u001b[39min\u001b[39;49;00m \u001b[39menumerate\u001b[39;49m(trees)\n\u001b[1;32m    494\u001b[0m )\n\u001b[1;32m    496\u001b[0m \u001b[39m# Collect newly grown trees\u001b[39;00m\n\u001b[1;32m    497\u001b[0m \u001b[39mself\u001b[39m\u001b[39m.\u001b[39mestimators_\u001b[39m.\u001b[39mextend(trees)\n",
      "File \u001b[0;32m~/opt/anaconda3/envs/netAna/lib/python3.8/site-packages/joblib/parallel.py:1061\u001b[0m, in \u001b[0;36mParallel.__call__\u001b[0;34m(self, iterable)\u001b[0m\n\u001b[1;32m   1058\u001b[0m     \u001b[39mself\u001b[39m\u001b[39m.\u001b[39m_iterating \u001b[39m=\u001b[39m \u001b[39mFalse\u001b[39;00m\n\u001b[1;32m   1060\u001b[0m \u001b[39mwith\u001b[39;00m \u001b[39mself\u001b[39m\u001b[39m.\u001b[39m_backend\u001b[39m.\u001b[39mretrieval_context():\n\u001b[0;32m-> 1061\u001b[0m     \u001b[39mself\u001b[39;49m\u001b[39m.\u001b[39;49mretrieve()\n\u001b[1;32m   1062\u001b[0m \u001b[39m# Make sure that we get a last message telling us we are done\u001b[39;00m\n\u001b[1;32m   1063\u001b[0m elapsed_time \u001b[39m=\u001b[39m time\u001b[39m.\u001b[39mtime() \u001b[39m-\u001b[39m \u001b[39mself\u001b[39m\u001b[39m.\u001b[39m_start_time\n",
      "File \u001b[0;32m~/opt/anaconda3/envs/netAna/lib/python3.8/site-packages/joblib/parallel.py:938\u001b[0m, in \u001b[0;36mParallel.retrieve\u001b[0;34m(self)\u001b[0m\n\u001b[1;32m    936\u001b[0m \u001b[39mtry\u001b[39;00m:\n\u001b[1;32m    937\u001b[0m     \u001b[39mif\u001b[39;00m \u001b[39mgetattr\u001b[39m(\u001b[39mself\u001b[39m\u001b[39m.\u001b[39m_backend, \u001b[39m'\u001b[39m\u001b[39msupports_timeout\u001b[39m\u001b[39m'\u001b[39m, \u001b[39mFalse\u001b[39;00m):\n\u001b[0;32m--> 938\u001b[0m         \u001b[39mself\u001b[39m\u001b[39m.\u001b[39m_output\u001b[39m.\u001b[39mextend(job\u001b[39m.\u001b[39;49mget(timeout\u001b[39m=\u001b[39;49m\u001b[39mself\u001b[39;49m\u001b[39m.\u001b[39;49mtimeout))\n\u001b[1;32m    939\u001b[0m     \u001b[39melse\u001b[39;00m:\n\u001b[1;32m    940\u001b[0m         \u001b[39mself\u001b[39m\u001b[39m.\u001b[39m_output\u001b[39m.\u001b[39mextend(job\u001b[39m.\u001b[39mget())\n",
      "File \u001b[0;32m~/opt/anaconda3/envs/netAna/lib/python3.8/multiprocessing/pool.py:765\u001b[0m, in \u001b[0;36mApplyResult.get\u001b[0;34m(self, timeout)\u001b[0m\n\u001b[1;32m    764\u001b[0m \u001b[39mdef\u001b[39;00m \u001b[39mget\u001b[39m(\u001b[39mself\u001b[39m, timeout\u001b[39m=\u001b[39m\u001b[39mNone\u001b[39;00m):\n\u001b[0;32m--> 765\u001b[0m     \u001b[39mself\u001b[39;49m\u001b[39m.\u001b[39;49mwait(timeout)\n\u001b[1;32m    766\u001b[0m     \u001b[39mif\u001b[39;00m \u001b[39mnot\u001b[39;00m \u001b[39mself\u001b[39m\u001b[39m.\u001b[39mready():\n\u001b[1;32m    767\u001b[0m         \u001b[39mraise\u001b[39;00m \u001b[39mTimeoutError\u001b[39;00m\n",
      "File \u001b[0;32m~/opt/anaconda3/envs/netAna/lib/python3.8/multiprocessing/pool.py:762\u001b[0m, in \u001b[0;36mApplyResult.wait\u001b[0;34m(self, timeout)\u001b[0m\n\u001b[1;32m    761\u001b[0m \u001b[39mdef\u001b[39;00m \u001b[39mwait\u001b[39m(\u001b[39mself\u001b[39m, timeout\u001b[39m=\u001b[39m\u001b[39mNone\u001b[39;00m):\n\u001b[0;32m--> 762\u001b[0m     \u001b[39mself\u001b[39;49m\u001b[39m.\u001b[39;49m_event\u001b[39m.\u001b[39;49mwait(timeout)\n",
      "File \u001b[0;32m~/opt/anaconda3/envs/netAna/lib/python3.8/threading.py:558\u001b[0m, in \u001b[0;36mEvent.wait\u001b[0;34m(self, timeout)\u001b[0m\n\u001b[1;32m    556\u001b[0m signaled \u001b[39m=\u001b[39m \u001b[39mself\u001b[39m\u001b[39m.\u001b[39m_flag\n\u001b[1;32m    557\u001b[0m \u001b[39mif\u001b[39;00m \u001b[39mnot\u001b[39;00m signaled:\n\u001b[0;32m--> 558\u001b[0m     signaled \u001b[39m=\u001b[39m \u001b[39mself\u001b[39;49m\u001b[39m.\u001b[39;49m_cond\u001b[39m.\u001b[39;49mwait(timeout)\n\u001b[1;32m    559\u001b[0m \u001b[39mreturn\u001b[39;00m signaled\n",
      "File \u001b[0;32m~/opt/anaconda3/envs/netAna/lib/python3.8/threading.py:302\u001b[0m, in \u001b[0;36mCondition.wait\u001b[0;34m(self, timeout)\u001b[0m\n\u001b[1;32m    300\u001b[0m \u001b[39mtry\u001b[39;00m:    \u001b[39m# restore state no matter what (e.g., KeyboardInterrupt)\u001b[39;00m\n\u001b[1;32m    301\u001b[0m     \u001b[39mif\u001b[39;00m timeout \u001b[39mis\u001b[39;00m \u001b[39mNone\u001b[39;00m:\n\u001b[0;32m--> 302\u001b[0m         waiter\u001b[39m.\u001b[39;49macquire()\n\u001b[1;32m    303\u001b[0m         gotit \u001b[39m=\u001b[39m \u001b[39mTrue\u001b[39;00m\n\u001b[1;32m    304\u001b[0m     \u001b[39melse\u001b[39;00m:\n",
      "\u001b[0;31mKeyboardInterrupt\u001b[0m: "
     ]
    }
   ],
   "source": [
    "from sklearn import preprocessing as p\n",
    "r = np.zeros((7,3))\n",
    "x_train = X_VoD_train\n",
    "x_test = X_VoD_test\n",
    "\n",
    "y_train = Y_VoD_train\n",
    "y_test = Y_VoD_test\n",
    "\n",
    "r[0,:] = train(x_train, y_train)\n",
    "\n",
    "x_train = p.normalize(X_VoD_train, axis=1)\n",
    "x_test = p.normalize(X_VoD_test, axis=1)\n",
    "r[1,:] = train(x_train, y_train)\n",
    "\n",
    "x_train = p.normalize(X_VoD_train, axis=0)\n",
    "x_test = p.normalize(X_VoD_test, axis=0)\n",
    "r[2,:] = train(x_train, y_train)\n",
    "\n",
    "x_train = p.minmax_scale(X_VoD_train, axis=1)\n",
    "x_test = p.minmax_scale(X_VoD_test, axis=1)\n",
    "r[3,:] = train(x_train, y_train)\n",
    "\n",
    "x_train = p.minmax_scale(X_VoD_train, axis=0)\n",
    "x_test = p.minmax_scale(X_VoD_test, axis=0)\n",
    "r[4,:] = train(x_train, y_train)\n",
    "\n",
    "x_train = p.scale(X_VoD_train, axis=1)\n",
    "x_test = p.scale(X_VoD_test, axis=1)\n",
    "r[5,:] = train(x_train, y_train)\n",
    "\n",
    "x_train = p.scale(X_VoD_train, axis=0)\n",
    "x_test = p.scale(X_VoD_test, axis=0)\n",
    "r[6,:] = train(x_train, y_train)"
   ]
  },
  {
   "cell_type": "code",
   "execution_count": null,
   "metadata": {},
   "outputs": [],
   "source": [
    "r2 = np.zeros((7,3))\n",
    "x_train = X_KV_train\n",
    "x_test = X_KV_test\n",
    "\n",
    "y_train = Y_KV_train\n",
    "y_test = Y_KV_test\n",
    "\n",
    "r2[0,:] = train(x_train, y_train)\n",
    "\n",
    "x_train = p.normalize(X_KV_train, axis=1)\n",
    "x_test = p.normalize(X_KV_test, axis=1)\n",
    "r2[1,:] = train(x_train, y_train)\n",
    "\n",
    "x_train = p.normalize(X_KV_train, axis=0)\n",
    "x_test = p.normalize(X_KV_test, axis=0)\n",
    "r2[2,:] = train(x_train, y_train)\n",
    "\n",
    "x_train = p.minmax_scale(X_KV_train, axis=1)\n",
    "x_test = p.minmax_scale(X_KV_test, axis=1)\n",
    "r2[3,:] = train(x_train, y_train)\n",
    "\n",
    "x_train = p.minmax_scale(X_KV_train, axis=0)\n",
    "x_test = p.minmax_scale(X_KV_test, axis=0)\n",
    "r2[4,:] = train(x_train, y_train)\n",
    "\n",
    "x_train = p.scale(X_KV_train, axis=1)\n",
    "x_test = p.scale(X_KV_test, axis=1)\n",
    "r2[5,:] = train(x_train, y_train)\n",
    "\n",
    "x_train = p.scale(X_KV_train, axis=0)\n",
    "x_test = p.scale(X_KV_test, axis=0)\n",
    "r2[6,:] = train(x_train, y_train)"
   ]
  },
  {
   "cell_type": "code",
   "execution_count": 71,
   "metadata": {},
   "outputs": [
    {
     "data": {
      "text/plain": [
       "array([0.46499242, 0.10925582, 0.50508922, 0.11182329, 0.09719068,\n",
       "       0.11211739, 0.09769105])"
      ]
     },
     "execution_count": 71,
     "metadata": {},
     "output_type": "execute_result"
    }
   ],
   "source": [
    "r.mean(axis=1) # Performing minmax_scale or standard-scale on each feature column works best."
   ]
  },
  {
   "cell_type": "code",
   "execution_count": 87,
   "metadata": {},
   "outputs": [
    {
     "data": {
      "text/plain": [
       "<seaborn.axisgrid.FacetGrid at 0x2c22512e0>"
      ]
     },
     "execution_count": 87,
     "metadata": {},
     "output_type": "execute_result"
    },
    {
     "data": {
      "image/png": "[encoded data removed]",
      "text/plain": [
       "<Figure size 360x360 with 1 Axes>"
      ]
     },
     "metadata": {
      "needs_background": "light"
     },
     "output_type": "display_data"
    }
   ],
   "source": [
    "import seaborn as sns\n",
    "x_train = p.scale(X_VoD_train, axis=0) #column wise\n",
    "x_test = p.scale(X_VoD_test, axis=0)\n",
    "sns.displot(x_test[:,2], stat=\"density\")"
   ]
  },
  {
   "cell_type": "code",
   "execution_count": 108,
   "metadata": {},
   "outputs": [],
   "source": [
    "from scipy import stats\n",
    "T = 5\n",
    "x_cut = x_train[(np.abs(stats.zscore(x_train)) < T).all(axis=1)]\n",
    "y_cut = y_train[(np.abs(stats.zscore(x_train)) < T).all(axis=1)]"
   ]
  },
  {
   "cell_type": "code",
   "execution_count": 146,
   "metadata": {},
   "outputs": [
    {
     "data": {
      "text/plain": [
       "Text(0.5, 0, 'T')"
      ]
     },
     "execution_count": 146,
     "metadata": {},
     "output_type": "execute_result"
    },
    {
     "data": {
      "image/png": "[encoded data removed]",
      "text/plain": [
       "<Figure size 432x288 with 1 Axes>"
      ]
     },
     "metadata": {
      "needs_background": "light"
     },
     "output_type": "display_data"
    }
   ],
   "source": [
    "num = []\n",
    "for T in np.arange(1,10,0.01):\n",
    "    n = x_train.shape[0] - (np.abs(stats.zscore(x_train)) < T).all(axis=1).sum()\n",
    "    num.append(n)\n",
    "plt.plot(np.arange(1,10,0.01), num)\n",
    "plt.ylabel('Number of outliers')\n",
    "plt.xlabel('T')"
   ]
  },
  {
   "cell_type": "code",
   "execution_count": 145,
   "metadata": {},
   "outputs": [
    {
     "data": {
      "text/plain": [
       "Text(0.5, 0, 'T')"
      ]
     },
     "execution_count": 145,
     "metadata": {},
     "output_type": "execute_result"
    },
    {
     "data": {
      "image/png": "[encoded data removed]",
      "text/plain": [
       "<Figure size 432x288 with 1 Axes>"
      ]
     },
     "metadata": {
      "needs_background": "light"
     },
     "output_type": "display_data"
    }
   ],
   "source": [
    "num = []\n",
    "for T in np.arange(1,10,0.01):\n",
    "    n = X_KV_train.shape[0] - (np.abs(stats.zscore(X_KV_train)) < T).all(axis=1).sum()\n",
    "    num.append(n)\n",
    "plt.plot(np.arange(1,10,0.01), num)\n",
    "plt.ylabel('Number of outliers')\n",
    "plt.xlabel('T')"
   ]
  },
  {
   "cell_type": "code",
   "execution_count": 38,
   "metadata": {},
   "outputs": [],
   "source": [
    "\n",
    "\n",
    "n1 = [] # linear\n",
    "n2 = [] # Random forest\n",
    "\n",
    "X = preprocessing.scale(X_KV.to_numpy(), axis=0)\n",
    "Y = Y_KV.to_numpy()\n",
    "x_train, x_test, y_train, y_test = train_test_split(X, Y, test_size=0.3)\n",
    "x_test = x_test[:,select_KV]\n",
    "\n",
    "num = []\n",
    "for T in np.arange(5,100,5):\n",
    "    x_cut = x_train[(np.abs(x_train) < T).all(axis=1)]\n",
    "    y_cut = y_train[(np.abs(x_train) < T).all(axis=1)]\n",
    "\n",
    "    x_cut = x_cut[:,select_KV]\n",
    "    \n",
    "\n",
    "    regr = sklearn.linear_model.LinearRegression()\n",
    "    regr.fit(x_cut, y_cut)\n",
    "    y_pred = regr.predict(x_test)\n",
    "    n1.append(NMAE(y_test, y_pred))\n",
    "\n",
    "    regr = sklearn.ensemble.RandomForestRegressor(n_jobs=-1)\n",
    "    regr.fit(x_cut, y_cut)\n",
    "    y_pred = regr.predict(x_test)\n",
    "    n2.append(NMAE(y_test, y_pred))"
   ]
  },
  {
   "cell_type": "code",
   "execution_count": 39,
   "metadata": {},
   "outputs": [
    {
     "data": {
      "text/plain": [
       "<matplotlib.legend.Legend at 0x28938b850>"
      ]
     },
     "execution_count": 39,
     "metadata": {},
     "output_type": "execute_result"
    },
    {
     "data": {
      "image/png": "[encoded data removed]",
      "text/plain": [
       "<Figure size 432x288 with 1 Axes>"
      ]
     },
     "metadata": {
      "needs_background": "light"
     },
     "output_type": "display_data"
    }
   ],
   "source": [
    "plt.plot(np.arange(5,100,5), n1, label='Linear Regression' )\n",
    "plt.plot(np.arange(5,100,5), n2, label='Random Forest')\n",
    "plt.ylabel('NMAE')\n",
    "plt.xlabel('T')\n",
    "plt.legend()"
   ]
  },
  {
   "cell_type": "code",
   "execution_count": 36,
   "metadata": {},
   "outputs": [],
   "source": [
    "n1 = [] # linear\n",
    "n2 = [] # Random forest\n",
    "\n",
    "X = preprocessing.scale(X_VoD.to_numpy(), axis=0)\n",
    "Y = Y_VoD.to_numpy()\n",
    "\n",
    "x_train, x_test, y_train, y_test = train_test_split(X, Y, test_size=0.3)\n",
    "x_test = x_test[:,select_VoD]\n",
    "\n",
    "num = []\n",
    "for T in np.arange(5,100,5):\n",
    "    x_cut = x_train[(np.abs(x_train) < T).all(axis=1)]\n",
    "    y_cut = y_train[(np.abs(x_train) < T).all(axis=1)]\n",
    "\n",
    "    x_cut = x_cut[:,select_VoD]\n",
    "    \n",
    "\n",
    "    regr = sklearn.linear_model.LinearRegression()\n",
    "    regr.fit(x_cut, y_cut)\n",
    "    y_pred = regr.predict(x_test)\n",
    "    n1.append(NMAE(y_test, y_pred))\n",
    "\n",
    "\n",
    "    regr = sklearn.ensemble.RandomForestRegressor(n_jobs=-1)\n",
    "    regr.fit(x_cut, y_cut)\n",
    "    y_pred = regr.predict(x_test)\n",
    "    n2.append(NMAE(y_test, y_pred))"
   ]
  },
  {
   "cell_type": "code",
   "execution_count": 37,
   "metadata": {},
   "outputs": [
    {
     "data": {
      "text/plain": [
       "<matplotlib.legend.Legend at 0x2892d2610>"
      ]
     },
     "execution_count": 37,
     "metadata": {},
     "output_type": "execute_result"
    },
    {
     "data": {
      "image/png": "[encoded data removed]",
      "text/plain": [
       "<Figure size 432x288 with 1 Axes>"
      ]
     },
     "metadata": {
      "needs_background": "light"
     },
     "output_type": "display_data"
    }
   ],
   "source": [
    "plt.plot(np.arange(5,100,5), n1, label='Linear Regression' )\n",
    "plt.plot(np.arange(5,100,5), n2, label='Random Forest')\n",
    "plt.ylabel('NMAE')\n",
    "plt.xlabel('T')\n",
    "plt.legend()"
   ]
  }
 ],
 "metadata": {
  "kernelspec": {
   "display_name": "Python 3.8.13 ('netAna')",
   "language": "python",
   "name": "python3"
  },
  "language_info": {
   "codemirror_mode": {
    "name": "ipython",
    "version": 3
   },
   "file_extension": ".py",
   "mimetype": "text/x-python",
   "name": "python",
   "nbconvert_exporter": "python",
   "pygments_lexer": "ipython3",
   "version": "3.8.13"
  },
  "orig_nbformat": 4,
  "vscode": {
   "interpreter": {
    "hash": "7e828c3945791a69a0ce6012397f71cd52c10e2c8f47c75a6c8970ce99c90e71"
   }
  }
 },
 "nbformat": 4,
 "nbformat_minor": 2
}
