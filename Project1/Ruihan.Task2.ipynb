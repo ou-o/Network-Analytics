{
 "cells": [
  {
   "cell_type": "markdown",
   "metadata": {},
   "source": [
    "## Task II - Estimating Service Metrics from Device Statistics\n",
    "### EQ 2420 - Network Analytics\n",
    "\n",
    "Ruihan Zhang\n",
    "Nov 8, 2022"
   ]
  },
  {
   "cell_type": "code",
   "execution_count": 1,
   "metadata": {},
   "outputs": [
    {
     "name": "stdout",
     "output_type": "stream",
     "text": [
      "pandas = 1.4.4\n",
      "numpy = 1.23.4\n"
     ]
    }
   ],
   "source": [
    "import pandas as pd\n",
    "import numpy as np\n",
    "import matplotlib.pyplot as plt\n",
    "import sklearn.ensemble\n",
    "import sklearn.metrics\n",
    "print('pandas =', pd.__version__)\n",
    "print('numpy =', np.__version__)\n",
    "\n",
    "select_KV = np.load('select_KV.npy')\n",
    "select_VoD = np.load('select_VoD.npy')\n",
    "\n",
    "X_KV = pd.read_csv('./JNSM_KV_flashcrowd_2/X.csv').drop(columns=['TimeStamp','Unnamed: 0']).iloc[:,select_KV]\n",
    "Y_KV = pd.read_csv('./JNSM_KV_flashcrowd_2/Y.csv')['ReadsAvg']\n",
    "\n",
    "X_VoD = pd.read_csv('./JNSM_VoD_flashcrowd_2/X.csv').drop(columns=['TimeStamp','Unnamed: 0']).iloc[:,select_VoD]\n",
    "Y_VoD = pd.read_csv('./JNSM_VoD_flashcrowd_2/Y.csv')['DispFrames']"
   ]
  },
  {
   "cell_type": "code",
   "execution_count": 3,
   "metadata": {},
   "outputs": [],
   "source": [
    "# selecting the top features using random forest.\n",
    "def select_feature(X, Y, num=16):\n",
    "    regr = sklearn.ensemble.RandomForestRegressor(max_depth=500, n_jobs=-1, verbose=1)\n",
    "    regr.fit(X, Y)\n",
    "    return np.argsort(regr.feature_importances_)[-num:]"
   ]
  },
  {
   "cell_type": "code",
   "execution_count": 2,
   "metadata": {},
   "outputs": [
    {
     "ename": "NameError",
     "evalue": "name 'select_feature' is not defined",
     "output_type": "error",
     "traceback": [
      "\u001b[0;31m---------------------------------------------------------------------------\u001b[0m",
      "\u001b[0;31mNameError\u001b[0m                                 Traceback (most recent call last)",
      "Cell \u001b[0;32mIn [2], line 1\u001b[0m\n\u001b[0;32m----> 1\u001b[0m select_KV \u001b[39m=\u001b[39m select_feature(X_KV, Y_KV)\n\u001b[1;32m      2\u001b[0m select_VoD \u001b[39m=\u001b[39m select_feature(X_VoD, Y_VoD)\n",
      "\u001b[0;31mNameError\u001b[0m: name 'select_feature' is not defined"
     ]
    }
   ],
   "source": [
    "select_KV = select_feature(X_KV, Y_KV)\n",
    "select_VoD = select_feature(X_VoD, Y_VoD)"
   ]
  },
  {
   "cell_type": "code",
   "execution_count": 41,
   "metadata": {},
   "outputs": [],
   "source": [
    "# save the result\n",
    "np.save(\"select_KV\", select_KV)\n",
    "np.save(\"select_VoD\", select_VoD)"
   ]
  },
  {
   "cell_type": "code",
   "execution_count": 3,
   "metadata": {},
   "outputs": [
    {
     "ename": "IndexError",
     "evalue": "index 134 is out of bounds for axis 0 with size 16",
     "output_type": "error",
     "traceback": [
      "\u001b[0;31m---------------------------------------------------------------------------\u001b[0m",
      "\u001b[0;31mIndexError\u001b[0m                                Traceback (most recent call last)",
      "Cell \u001b[0;32mIn [3], line 3\u001b[0m\n\u001b[1;32m      1\u001b[0m select_KV \u001b[39m=\u001b[39m np\u001b[39m.\u001b[39mload(\u001b[39m'\u001b[39m\u001b[39mselect_KV.npy\u001b[39m\u001b[39m'\u001b[39m)\n\u001b[1;32m      2\u001b[0m select_VoD \u001b[39m=\u001b[39m np\u001b[39m.\u001b[39mload(\u001b[39m'\u001b[39m\u001b[39mselect_VoD.npy\u001b[39m\u001b[39m'\u001b[39m)\n\u001b[0;32m----> 3\u001b[0m \u001b[39mprint\u001b[39m(X_KV\u001b[39m.\u001b[39;49mcolumns[\u001b[39msorted\u001b[39;49m(select_KV)])\n\u001b[1;32m      4\u001b[0m \u001b[39mprint\u001b[39m(X_VoD\u001b[39m.\u001b[39mcolumns[\u001b[39msorted\u001b[39m(select_KV)])\n",
      "File \u001b[0;32m~/opt/anaconda3/envs/netAna/lib/python3.8/site-packages/pandas/core/indexes/base.py:5069\u001b[0m, in \u001b[0;36mIndex.__getitem__\u001b[0;34m(self, key)\u001b[0m\n\u001b[1;32m   5062\u001b[0m \u001b[39mif\u001b[39;00m com\u001b[39m.\u001b[39mis_bool_indexer(key):\n\u001b[1;32m   5063\u001b[0m     \u001b[39m# if we have list[bools, length=1e5] then doing this check+convert\u001b[39;00m\n\u001b[1;32m   5064\u001b[0m     \u001b[39m#  takes 166 µs + 2.1 ms and cuts the ndarray.__getitem__\u001b[39;00m\n\u001b[1;32m   5065\u001b[0m     \u001b[39m#  time below from 3.8 ms to 496 µs\u001b[39;00m\n\u001b[1;32m   5066\u001b[0m     \u001b[39m# if we already have ndarray[bool], the overhead is 1.4 µs or .25%\u001b[39;00m\n\u001b[1;32m   5067\u001b[0m     key \u001b[39m=\u001b[39m np\u001b[39m.\u001b[39masarray(key, dtype\u001b[39m=\u001b[39m\u001b[39mbool\u001b[39m)\n\u001b[0;32m-> 5069\u001b[0m result \u001b[39m=\u001b[39m getitem(key)\n\u001b[1;32m   5070\u001b[0m \u001b[39m# Because we ruled out integer above, we always get an arraylike here\u001b[39;00m\n\u001b[1;32m   5071\u001b[0m \u001b[39mif\u001b[39;00m result\u001b[39m.\u001b[39mndim \u001b[39m>\u001b[39m \u001b[39m1\u001b[39m:\n",
      "\u001b[0;31mIndexError\u001b[0m: index 134 is out of bounds for axis 0 with size 16"
     ]
    }
   ],
   "source": [
    "select_KV = np.load('select_KV.npy')\n",
    "select_VoD = np.load('select_VoD.npy')\n",
    "print(X_KV.columns[sorted(select_KV)])\n",
    "print(X_VoD.columns[sorted(select_KV)])"
   ]
  },
  {
   "cell_type": "code",
   "execution_count": 5,
   "metadata": {},
   "outputs": [],
   "source": [
    "# draw ramdom samples from the dataset to form training set and test set\n",
    "# X_KV_train = X_KV.iloc[:,select_KV].sample(frac=0.7)\n",
    "# X_KV_test = X_KV.iloc[:,select_KV].drop(X_KV_train.index)\n",
    "# Y_KV_train = Y_KV.iloc[X_KV_train.index,:]\n",
    "# Y_KV_test = Y_KV.iloc[X_KV_test.index,:]\n",
    "\n",
    "# X_VoD_train = X_VoD.iloc[:,select_VoD].sample(frac=0.7)\n",
    "# X_VoD_test = X_VoD.iloc[:,select_VoD].drop(X_VoD_train.index)\n",
    "# Y_VoD_train = Y_VoD.iloc[X_VoD_train.index,:]\n",
    "# Y_VoD_test = Y_VoD.iloc[X_VoD_test.index,:]\n",
    "\n",
    "from sklearn.model_selection import train_test_split\n",
    "\n",
    "X_KV_train, X_KV_test, Y_KV_train, Y_KV_test = train_test_split(X_KV, Y_KV, test_size=0.3)\n",
    "\n",
    "X_VoD_train, X_VoD_test, Y_VoD_train, Y_VoD_test = train_test_split(X_VoD, Y_VoD, test_size=0.3)"
   ]
  },
  {
   "cell_type": "code",
   "execution_count": 7,
   "metadata": {},
   "outputs": [],
   "source": [
    "# our evaluating metric: Normalized Mean Absolute Error\n",
    "def NMAE(y_true, y_pred):\n",
    "    return abs(y_true - y_pred).mean() / abs(y_pred.mean())"
   ]
  },
  {
   "cell_type": "code",
   "execution_count": 8,
   "metadata": {},
   "outputs": [],
   "source": [
    "# Linear regression model\n",
    "def linear_predict(X, Y, Xtest):\n",
    "    theta = np.linalg.inv( X.T @ X ) @ X.T @ Y\n",
    "    return Xtest @ theta"
   ]
  },
  {
   "cell_type": "code",
   "execution_count": 13,
   "metadata": {},
   "outputs": [
    {
     "name": "stdout",
     "output_type": "stream",
     "text": [
      "0.0217527339980307\n"
     ]
    },
    {
     "data": {
      "text/plain": [
       "0.49690806459044645"
      ]
     },
     "execution_count": 13,
     "metadata": {},
     "output_type": "execute_result"
    }
   ],
   "source": [
    "from sklearn import linear_model\n",
    "reg = linear_model.LinearRegression()\n",
    "reg.fit(X_KV_train,Y_KV_train)\n",
    "Y_KV_pred = reg.predict(X_KV_test)\n",
    "print( NMAE(Y_KV_test.values, Y_KV_pred) )\n",
    "sklearn.metrics.r2_score(Y_KV_test.values, Y_KV_pred)"
   ]
  },
  {
   "cell_type": "code",
   "execution_count": 14,
   "metadata": {},
   "outputs": [
    {
     "name": "stdout",
     "output_type": "stream",
     "text": [
      "0.12123686547977217\n"
     ]
    },
    {
     "data": {
      "text/plain": [
       "0.25870139896040323"
      ]
     },
     "execution_count": 14,
     "metadata": {},
     "output_type": "execute_result"
    }
   ],
   "source": [
    "reg = linear_model.LinearRegression()\n",
    "reg.fit(X_VoD_train,Y_VoD_train)\n",
    "Y_VoD_pred = reg.predict(X_VoD_test)\n",
    "print( NMAE(Y_VoD_test.values, Y_VoD_pred) )\n",
    "sklearn.metrics.r2_score(Y_VoD_test.values, Y_VoD_pred)"
   ]
  },
  {
   "cell_type": "code",
   "execution_count": 15,
   "metadata": {},
   "outputs": [
    {
     "name": "stdout",
     "output_type": "stream",
     "text": [
      "0.04176517237956494\n"
     ]
    }
   ],
   "source": [
    "# Naive method, using mean as estimation:\n",
    "Y_KV_pred = Y_KV_train.values.mean(axis=0)\n",
    "print( NMAE(Y_KV_test.values, Y_KV_pred) )"
   ]
  },
  {
   "cell_type": "code",
   "execution_count": 16,
   "metadata": {},
   "outputs": [
    {
     "name": "stdout",
     "output_type": "stream",
     "text": [
      "0.1456337043019516\n"
     ]
    }
   ],
   "source": [
    "Y_VoD_pred = Y_VoD_train.values.mean(axis=0)\n",
    "print( NMAE(Y_VoD_test.values, Y_VoD_pred) )"
   ]
  },
  {
   "cell_type": "code",
   "execution_count": 17,
   "metadata": {},
   "outputs": [],
   "source": [
    "# random forest regression\n",
    "def random_forest(X, Y, Xtest):\n",
    "    regr = sklearn.ensemble.RandomForestRegressor(random_state=0, n_jobs=-1)\n",
    "    regr.fit(X, Y)\n",
    "    print(regr.get_params())\n",
    "    return regr.predict(Xtest)"
   ]
  },
  {
   "cell_type": "code",
   "execution_count": 47,
   "metadata": {},
   "outputs": [
    {
     "name": "stdout",
     "output_type": "stream",
     "text": [
      "{'bootstrap': True, 'ccp_alpha': 0.0, 'criterion': 'squared_error', 'max_depth': None, 'max_features': 1.0, 'max_leaf_nodes': None, 'max_samples': None, 'min_impurity_decrease': 0.0, 'min_samples_leaf': 1, 'min_samples_split': 2, 'min_weight_fraction_leaf': 0.0, 'n_estimators': 100, 'n_jobs': -1, 'oob_score': False, 'random_state': 0, 'verbose': 0, 'warm_start': False}\n",
      "nmae is 0.02015985632175413\n",
      "r2 is: 0.5740090804538682\n"
     ]
    }
   ],
   "source": [
    "Y_KV_pred = random_forest(X_KV_train.values, Y_KV_train.values, X_KV_test.values)\n",
    "print( 'nmae is', NMAE(Y_KV_test.values, Y_KV_pred) )\n",
    "print('r2 is:', sklearn.metrics.r2_score(Y_KV_test.values, Y_KV_pred))"
   ]
  },
  {
   "cell_type": "code",
   "execution_count": 19,
   "metadata": {},
   "outputs": [
    {
     "name": "stdout",
     "output_type": "stream",
     "text": [
      "{'bootstrap': True, 'ccp_alpha': 0.0, 'criterion': 'squared_error', 'max_depth': None, 'max_features': 1.0, 'max_leaf_nodes': None, 'max_samples': None, 'min_impurity_decrease': 0.0, 'min_samples_leaf': 1, 'min_samples_split': 2, 'min_weight_fraction_leaf': 0.0, 'n_estimators': 100, 'n_jobs': -1, 'oob_score': False, 'random_state': 0, 'verbose': 0, 'warm_start': False}\n",
      "0.06258437684276251\n"
     ]
    },
    {
     "data": {
      "text/plain": [
       "0.6083924872142177"
      ]
     },
     "execution_count": 19,
     "metadata": {},
     "output_type": "execute_result"
    }
   ],
   "source": [
    "Y_VoD_pred = random_forest(X_VoD_train.values, Y_VoD_train.values, X_VoD_test.values)\n",
    "print( NMAE(Y_VoD_test.values, Y_VoD_pred) )\n",
    "sklearn.metrics.r2_score(Y_VoD_test.values, Y_VoD_pred)"
   ]
  },
  {
   "cell_type": "code",
   "execution_count": 50,
   "metadata": {},
   "outputs": [
    {
     "name": "stdout",
     "output_type": "stream",
     "text": [
      "-1.3789013153404253\n",
      "nmae is 0.026096239871923478\n",
      "r2 is: -1.3789013153404253\n"
     ]
    }
   ],
   "source": [
    "# neural network KV\n",
    "from sklearn.neural_network import MLPRegressor\n",
    "regr = MLPRegressor(hidden_layer_sizes=(10, 10, 10 ,10, 10), max_iter=5000, learning_rate_init=0.0001)\n",
    "regr.fit(X_KV_train, Y_KV_train)\n",
    "Y_KV_pred = regr.predict(X_KV_test)\n",
    "print(regr.score(X_KV_test, Y_KV_test))\n",
    "print( 'nmae is', NMAE(Y_KV_test.values, Y_KV_pred) )\n",
    "print('r2 is:', sklearn.metrics.r2_score(Y_KV_test.values, Y_KV_pred))"
   ]
  },
  {
   "cell_type": "code",
   "execution_count": 52,
   "metadata": {},
   "outputs": [
    {
     "name": "stdout",
     "output_type": "stream",
     "text": [
      "0.792952380952381\n",
      "nmae is 0.08385714285714285\n",
      "r2 is: -0.2142664639860774\n"
     ]
    }
   ],
   "source": [
    "# neural network VoD\n",
    "from sklearn.neural_network import MLPClassifier\n",
    "regr = MLPClassifier(hidden_layer_sizes=(16,16,16,16,16,16,16), max_iter=5000, learning_rate_init=0.0001)\n",
    "regr.fit(X_VoD_train, Y_VoD_train)\n",
    "Y_VoD_pred = regr.predict(X_VoD_test)\n",
    "print(regr.score(X_VoD_test, Y_VoD_test))\n",
    "print( 'nmae is', NMAE(Y_VoD_test.values, Y_VoD_pred) )\n",
    "print('r2 is:', sklearn.metrics.r2_score(Y_VoD_test.values, Y_VoD_pred))"
   ]
  },
  {
   "cell_type": "code",
   "execution_count": 45,
   "metadata": {},
   "outputs": [
    {
     "ename": "AttributeError",
     "evalue": "'_iLocIndexer' object has no attribute 'mean'",
     "output_type": "error",
     "traceback": [
      "\u001b[0;31m---------------------------------------------------------------------------\u001b[0m",
      "\u001b[0;31mAttributeError\u001b[0m                            Traceback (most recent call last)",
      "Cell \u001b[0;32mIn [45], line 10\u001b[0m\n\u001b[1;32m      8\u001b[0m \u001b[39m# plt.plot(Y_VoD_test.index[left:right], Y_VoD_test.iloc[left:right], color=colors[0], label=\"Measured\")\u001b[39;00m\n\u001b[1;32m      9\u001b[0m plt\u001b[39m.\u001b[39mplot(Y_VoD_test\u001b[39m.\u001b[39mindex[left:right], Y_VoD_pred[left:right], color\u001b[39m=\u001b[39mcolors[\u001b[39m1\u001b[39m], label\u001b[39m=\u001b[39m\u001b[39m\"\u001b[39m\u001b[39mEstimation\u001b[39m\u001b[39m\"\u001b[39m, linewidth\u001b[39m=\u001b[39m\u001b[39m2\u001b[39m)\n\u001b[0;32m---> 10\u001b[0m plt\u001b[39m.\u001b[39mplot(Y_VoD_test\u001b[39m.\u001b[39mindex[left:right], [Y_VoD_test\u001b[39m.\u001b[39;49miloc\u001b[39m.\u001b[39;49mmean()]\u001b[39m*\u001b[39m(right\u001b[39m-\u001b[39mleft), color\u001b[39m=\u001b[39mcolors[\u001b[39m2\u001b[39m], label\u001b[39m=\u001b[39m\u001b[39m\"\u001b[39m\u001b[39mNaive Estimation\u001b[39m\u001b[39m\"\u001b[39m, linewidth\u001b[39m=\u001b[39m\u001b[39m2\u001b[39m)\n\u001b[1;32m     11\u001b[0m plt\u001b[39m.\u001b[39mxlabel(\u001b[39m\"\u001b[39m\u001b[39mTime index\u001b[39m\u001b[39m\"\u001b[39m)\n\u001b[1;32m     12\u001b[0m plt\u001b[39m.\u001b[39mylabel(\u001b[39m\"\u001b[39m\u001b[39mResponse time (milliseconds)\u001b[39m\u001b[39m\"\u001b[39m)\n",
      "\u001b[0;31mAttributeError\u001b[0m: '_iLocIndexer' object has no attribute 'mean'"
     ]
    },
    {
     "data": {
      "image/png": "[encoded data removed]",
      "text/plain": [
       "<Figure size 960x480 with 1 Axes>"
      ]
     },
     "metadata": {
      "needs_background": "light"
     },
     "output_type": "display_data"
    }
   ],
   "source": [
    "# produce a time series plot\n",
    "import seaborn as sns\n",
    "colors = sns.color_palette(\"Set2\")\n",
    "left = 0\n",
    "right = 800\n",
    "\n",
    "plt.figure(1,figsize=(12, 6), dpi=80)\n",
    "# plt.plot(Y_VoD_test.index[left:right], Y_VoD_test.iloc[left:right], color=colors[0], label=\"Measured\")\n",
    "plt.plot(Y_VoD_test.index[left:right], Y_VoD_pred[left:right], color=colors[1], label=\"Estimation\", linewidth=2)\n",
    "plt.plot(Y_VoD_test.index[left:right], [Y_VoD_test.iloc.mean()]*(right-left), color=colors[2], label=\"Naive Estimation\", linewidth=2)\n",
    "plt.xlabel(\"Time index\")\n",
    "plt.ylabel(\"Response time (milliseconds)\")\n",
    "plt.legend()\n",
    "plt.show()"
   ]
  },
  {
   "cell_type": "code",
   "execution_count": 41,
   "metadata": {},
   "outputs": [
    {
     "ename": "ValueError",
     "evalue": "Could not interpret value `DispFrames` for parameter `x`",
     "output_type": "error",
     "traceback": [
      "\u001b[0;31m---------------------------------------------------------------------------\u001b[0m",
      "\u001b[0;31mValueError\u001b[0m                                Traceback (most recent call last)",
      "Cell \u001b[0;32mIn [41], line 1\u001b[0m\n\u001b[0;32m----> 1\u001b[0m sns\u001b[39m.\u001b[39;49mdisplot(Y_VoD_test, x\u001b[39m=\u001b[39;49m\u001b[39m'\u001b[39;49m\u001b[39mDispFrames\u001b[39;49m\u001b[39m'\u001b[39;49m,binwidth\u001b[39m=\u001b[39;49m\u001b[39m1\u001b[39;49m,stat\u001b[39m=\u001b[39;49m\u001b[39m\"\u001b[39;49m\u001b[39mdensity\u001b[39;49m\u001b[39m\"\u001b[39;49m)\n\u001b[1;32m      2\u001b[0m plt\u001b[39m.\u001b[39mxlim(left\u001b[39m=\u001b[39m\u001b[39m10\u001b[39m)\n",
      "File \u001b[0;32m~/opt/anaconda3/envs/netAna/lib/python3.8/site-packages/seaborn/distributions.py:2131\u001b[0m, in \u001b[0;36mdisplot\u001b[0;34m(data, x, y, hue, row, col, weights, kind, rug, rug_kws, log_scale, legend, palette, hue_order, hue_norm, color, col_wrap, row_order, col_order, height, aspect, facet_kws, **kwargs)\u001b[0m\n\u001b[1;32m   2117\u001b[0m \u001b[39mdef\u001b[39;00m \u001b[39mdisplot\u001b[39m(\n\u001b[1;32m   2118\u001b[0m     data\u001b[39m=\u001b[39m\u001b[39mNone\u001b[39;00m, \u001b[39m*\u001b[39m,\n\u001b[1;32m   2119\u001b[0m     \u001b[39m# Vector variables\u001b[39;00m\n\u001b[0;32m   (...)\u001b[0m\n\u001b[1;32m   2128\u001b[0m     \u001b[39m*\u001b[39m\u001b[39m*\u001b[39mkwargs,\n\u001b[1;32m   2129\u001b[0m ):\n\u001b[0;32m-> 2131\u001b[0m     p \u001b[39m=\u001b[39m _DistributionFacetPlotter(\n\u001b[1;32m   2132\u001b[0m         data\u001b[39m=\u001b[39;49mdata,\n\u001b[1;32m   2133\u001b[0m         variables\u001b[39m=\u001b[39;49m_DistributionFacetPlotter\u001b[39m.\u001b[39;49mget_semantics(\u001b[39mlocals\u001b[39;49m())\n\u001b[1;32m   2134\u001b[0m     )\n\u001b[1;32m   2136\u001b[0m     p\u001b[39m.\u001b[39mmap_hue(palette\u001b[39m=\u001b[39mpalette, order\u001b[39m=\u001b[39mhue_order, norm\u001b[39m=\u001b[39mhue_norm)\n\u001b[1;32m   2138\u001b[0m     _check_argument(\u001b[39m\"\u001b[39m\u001b[39mkind\u001b[39m\u001b[39m\"\u001b[39m, [\u001b[39m\"\u001b[39m\u001b[39mhist\u001b[39m\u001b[39m\"\u001b[39m, \u001b[39m\"\u001b[39m\u001b[39mkde\u001b[39m\u001b[39m\"\u001b[39m, \u001b[39m\"\u001b[39m\u001b[39mecdf\u001b[39m\u001b[39m\"\u001b[39m], kind)\n",
      "File \u001b[0;32m~/opt/anaconda3/envs/netAna/lib/python3.8/site-packages/seaborn/distributions.py:112\u001b[0m, in \u001b[0;36m_DistributionPlotter.__init__\u001b[0;34m(self, data, variables)\u001b[0m\n\u001b[1;32m    106\u001b[0m \u001b[39mdef\u001b[39;00m \u001b[39m__init__\u001b[39m(\n\u001b[1;32m    107\u001b[0m     \u001b[39mself\u001b[39m,\n\u001b[1;32m    108\u001b[0m     data\u001b[39m=\u001b[39m\u001b[39mNone\u001b[39;00m,\n\u001b[1;32m    109\u001b[0m     variables\u001b[39m=\u001b[39m{},\n\u001b[1;32m    110\u001b[0m ):\n\u001b[0;32m--> 112\u001b[0m     \u001b[39msuper\u001b[39;49m()\u001b[39m.\u001b[39;49m\u001b[39m__init__\u001b[39;49m(data\u001b[39m=\u001b[39;49mdata, variables\u001b[39m=\u001b[39;49mvariables)\n",
      "File \u001b[0;32m~/opt/anaconda3/envs/netAna/lib/python3.8/site-packages/seaborn/_oldcore.py:640\u001b[0m, in \u001b[0;36mVectorPlotter.__init__\u001b[0;34m(self, data, variables)\u001b[0m\n\u001b[1;32m    635\u001b[0m \u001b[39m# var_ordered is relevant only for categorical axis variables, and may\u001b[39;00m\n\u001b[1;32m    636\u001b[0m \u001b[39m# be better handled by an internal axis information object that tracks\u001b[39;00m\n\u001b[1;32m    637\u001b[0m \u001b[39m# such information and is set up by the scale_* methods. The analogous\u001b[39;00m\n\u001b[1;32m    638\u001b[0m \u001b[39m# information for numeric axes would be information about log scales.\u001b[39;00m\n\u001b[1;32m    639\u001b[0m \u001b[39mself\u001b[39m\u001b[39m.\u001b[39m_var_ordered \u001b[39m=\u001b[39m {\u001b[39m\"\u001b[39m\u001b[39mx\u001b[39m\u001b[39m\"\u001b[39m: \u001b[39mFalse\u001b[39;00m, \u001b[39m\"\u001b[39m\u001b[39my\u001b[39m\u001b[39m\"\u001b[39m: \u001b[39mFalse\u001b[39;00m}  \u001b[39m# alt., used DefaultDict\u001b[39;00m\n\u001b[0;32m--> 640\u001b[0m \u001b[39mself\u001b[39;49m\u001b[39m.\u001b[39;49massign_variables(data, variables)\n\u001b[1;32m    642\u001b[0m \u001b[39mfor\u001b[39;00m var, \u001b[39mcls\u001b[39m \u001b[39min\u001b[39;00m \u001b[39mself\u001b[39m\u001b[39m.\u001b[39m_semantic_mappings\u001b[39m.\u001b[39mitems():\n\u001b[1;32m    643\u001b[0m \n\u001b[1;32m    644\u001b[0m     \u001b[39m# Create the mapping function\u001b[39;00m\n\u001b[1;32m    645\u001b[0m     map_func \u001b[39m=\u001b[39m partial(\u001b[39mcls\u001b[39m\u001b[39m.\u001b[39mmap, plotter\u001b[39m=\u001b[39m\u001b[39mself\u001b[39m)\n",
      "File \u001b[0;32m~/opt/anaconda3/envs/netAna/lib/python3.8/site-packages/seaborn/_oldcore.py:701\u001b[0m, in \u001b[0;36mVectorPlotter.assign_variables\u001b[0;34m(self, data, variables)\u001b[0m\n\u001b[1;32m    699\u001b[0m \u001b[39melse\u001b[39;00m:\n\u001b[1;32m    700\u001b[0m     \u001b[39mself\u001b[39m\u001b[39m.\u001b[39minput_format \u001b[39m=\u001b[39m \u001b[39m\"\u001b[39m\u001b[39mlong\u001b[39m\u001b[39m\"\u001b[39m\n\u001b[0;32m--> 701\u001b[0m     plot_data, variables \u001b[39m=\u001b[39m \u001b[39mself\u001b[39;49m\u001b[39m.\u001b[39;49m_assign_variables_longform(\n\u001b[1;32m    702\u001b[0m         data, \u001b[39m*\u001b[39;49m\u001b[39m*\u001b[39;49mvariables,\n\u001b[1;32m    703\u001b[0m     )\n\u001b[1;32m    705\u001b[0m \u001b[39mself\u001b[39m\u001b[39m.\u001b[39mplot_data \u001b[39m=\u001b[39m plot_data\n\u001b[1;32m    706\u001b[0m \u001b[39mself\u001b[39m\u001b[39m.\u001b[39mvariables \u001b[39m=\u001b[39m variables\n",
      "File \u001b[0;32m~/opt/anaconda3/envs/netAna/lib/python3.8/site-packages/seaborn/_oldcore.py:938\u001b[0m, in \u001b[0;36mVectorPlotter._assign_variables_longform\u001b[0;34m(self, data, **kwargs)\u001b[0m\n\u001b[1;32m    933\u001b[0m \u001b[39melif\u001b[39;00m \u001b[39misinstance\u001b[39m(val, (\u001b[39mstr\u001b[39m, \u001b[39mbytes\u001b[39m)):\n\u001b[1;32m    934\u001b[0m \n\u001b[1;32m    935\u001b[0m     \u001b[39m# This looks like a column name but we don't know what it means!\u001b[39;00m\n\u001b[1;32m    937\u001b[0m     err \u001b[39m=\u001b[39m \u001b[39mf\u001b[39m\u001b[39m\"\u001b[39m\u001b[39mCould not interpret value `\u001b[39m\u001b[39m{\u001b[39;00mval\u001b[39m}\u001b[39;00m\u001b[39m` for parameter `\u001b[39m\u001b[39m{\u001b[39;00mkey\u001b[39m}\u001b[39;00m\u001b[39m`\u001b[39m\u001b[39m\"\u001b[39m\n\u001b[0;32m--> 938\u001b[0m     \u001b[39mraise\u001b[39;00m \u001b[39mValueError\u001b[39;00m(err)\n\u001b[1;32m    940\u001b[0m \u001b[39melse\u001b[39;00m:\n\u001b[1;32m    941\u001b[0m \n\u001b[1;32m    942\u001b[0m     \u001b[39m# Otherwise, assume the value is itself data\u001b[39;00m\n\u001b[1;32m    943\u001b[0m \n\u001b[1;32m    944\u001b[0m     \u001b[39m# Raise when data object is present and a vector can't matched\u001b[39;00m\n\u001b[1;32m    945\u001b[0m     \u001b[39mif\u001b[39;00m \u001b[39misinstance\u001b[39m(data, pd\u001b[39m.\u001b[39mDataFrame) \u001b[39mand\u001b[39;00m \u001b[39mnot\u001b[39;00m \u001b[39misinstance\u001b[39m(val, pd\u001b[39m.\u001b[39mSeries):\n",
      "\u001b[0;31mValueError\u001b[0m: Could not interpret value `DispFrames` for parameter `x`"
     ]
    }
   ],
   "source": [
    "sns.displot(Y_VoD_test, x='DispFrames',binwidth=1,stat=\"density\")\n",
    "plt.xlim(left=10)"
   ]
  },
  {
   "cell_type": "code",
   "execution_count": 186,
   "metadata": {},
   "outputs": [
    {
     "data": {
      "text/plain": [
       "(-10.0, 10.0)"
      ]
     },
     "execution_count": 186,
     "metadata": {},
     "output_type": "execute_result"
    },
    {
     "data": {
      "image/png": "[encoded data removed]",
      "text/plain": [
       "<Figure size 360x360 with 1 Axes>"
      ]
     },
     "metadata": {
      "needs_background": "light"
     },
     "output_type": "display_data"
    }
   ],
   "source": [
    "sns.displot(Y_VoD_test-Y_VoD_pred, x='DispFrames',binwidth=0.7,stat=\"density\")\n",
    "plt.xlabel('Estimation error')\n",
    "plt.xlim([-10, 10])"
   ]
  },
  {
   "cell_type": "code",
   "execution_count": 184,
   "metadata": {},
   "outputs": [
    {
     "data": {
      "text/plain": [
       "(-0.004, 0.03)"
      ]
     },
     "execution_count": 184,
     "metadata": {},
     "output_type": "execute_result"
    },
    {
     "data": {
      "image/png": "[encoded data removed]",
      "text/plain": [
       "<Figure size 360x360 with 1 Axes>"
      ]
     },
     "metadata": {
      "needs_background": "light"
     },
     "output_type": "display_data"
    }
   ],
   "source": [
    "sns.displot(Y_VoD_test, x='NetReadAvgDelay',binwidth=0.001,stat=\"density\")\n",
    "plt.xlim(right=0.03)"
   ]
  },
  {
   "cell_type": "code",
   "execution_count": 189,
   "metadata": {},
   "outputs": [
    {
     "data": {
      "text/plain": [
       "(-0.02, 0.02)"
      ]
     },
     "execution_count": 189,
     "metadata": {},
     "output_type": "execute_result"
    },
    {
     "data": {
      "image/png": "[encoded data removed]",
      "text/plain": [
       "<Figure size 360x360 with 1 Axes>"
      ]
     },
     "metadata": {
      "needs_background": "light"
     },
     "output_type": "display_data"
    }
   ],
   "source": [
    "sns.displot(Y_VoD_test-Y_VoD_pred, x='NetReadAvgDelay',binwidth=0.001,stat=\"density\")\n",
    "plt.xlabel('Estimation error')\n",
    "plt.xlim([-0.02, 0.02])"
   ]
  },
  {
   "cell_type": "code",
   "execution_count": 176,
   "metadata": {},
   "outputs": [
    {
     "data": {
      "text/plain": [
       "(49.1356, 70.0)"
      ]
     },
     "execution_count": 176,
     "metadata": {},
     "output_type": "execute_result"
    },
    {
     "data": {
      "image/png": "[encoded data removed]",
      "text/plain": [
       "<Figure size 360x360 with 1 Axes>"
      ]
     },
     "metadata": {
      "needs_background": "light"
     },
     "output_type": "display_data"
    }
   ],
   "source": [
    "sns.displot(Y_KV_test, x='ReadsAvg',binwidth=1)\n",
    "plt.xlim(right=70)"
   ]
  },
  {
   "cell_type": "code",
   "execution_count": 192,
   "metadata": {},
   "outputs": [
    {
     "data": {
      "text/plain": [
       "(-15.0, 15.0)"
      ]
     },
     "execution_count": 192,
     "metadata": {},
     "output_type": "execute_result"
    },
    {
     "data": {
      "image/png": "[encoded data removed]",
      "text/plain": [
       "<Figure size 360x360 with 1 Axes>"
      ]
     },
     "metadata": {
      "needs_background": "light"
     },
     "output_type": "display_data"
    }
   ],
   "source": [
    "sns.displot(Y_KV_test-Y_KV_pred, x='ReadsAvg',binwidth=1)\n",
    "plt.xlim([-15, 15])"
   ]
  },
  {
   "cell_type": "code",
   "execution_count": 174,
   "metadata": {},
   "outputs": [
    {
     "data": {
      "text/plain": [
       "(97.0696, 150.0)"
      ]
     },
     "execution_count": 174,
     "metadata": {},
     "output_type": "execute_result"
    },
    {
     "data": {
      "image/png": "[encoded data removed]",
      "text/plain": [
       "<Figure size 360x360 with 1 Axes>"
      ]
     },
     "metadata": {
      "needs_background": "light"
     },
     "output_type": "display_data"
    }
   ],
   "source": [
    "sns.displot(Y_KV_test, x='WritesAvg',binwidth=2)\n",
    "plt.xlim(right=150)"
   ]
  },
  {
   "cell_type": "code",
   "execution_count": 195,
   "metadata": {},
   "outputs": [
    {
     "data": {
      "text/plain": [
       "(-15.0, 15.0)"
      ]
     },
     "execution_count": 195,
     "metadata": {},
     "output_type": "execute_result"
    },
    {
     "data": {
      "image/png": "[encoded data removed]",
      "text/plain": [
       "<Figure size 360x360 with 1 Axes>"
      ]
     },
     "metadata": {
      "needs_background": "light"
     },
     "output_type": "display_data"
    }
   ],
   "source": [
    "sns.displot(Y_KV_test-Y_KV_pred, x='WritesAvg',binwidth=1)\n",
    "plt.xlim([-15,15])"
   ]
  }
 ],
 "metadata": {
  "kernelspec": {
   "display_name": "Python 3.8.13 ('netAna')",
   "language": "python",
   "name": "python3"
  },
  "language_info": {
   "codemirror_mode": {
    "name": "ipython",
    "version": 3
   },
   "file_extension": ".py",
   "mimetype": "text/x-python",
   "name": "python",
   "nbconvert_exporter": "python",
   "pygments_lexer": "ipython3",
   "version": "3.8.13"
  },
  "orig_nbformat": 4,
  "vscode": {
   "interpreter": {
    "hash": "7e828c3945791a69a0ce6012397f71cd52c10e2c8f47c75a6c8970ce99c90e71"
   }
  }
 },
 "nbformat": 4,
 "nbformat_minor": 2
}
