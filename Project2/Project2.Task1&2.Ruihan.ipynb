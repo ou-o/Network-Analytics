{
 "cells": [
  {
   "cell_type": "markdown",
   "metadata": {},
   "source": [
    "# Project II: Online learning with sample selection and change detection\n",
    "### Task I - Offline and online learning on a small-size training set\n",
    "### EP 2420 - Network Analytics\n",
    "\n",
    "Ruihan Zhang\n",
    "Nov 29, 2022"
   ]
  },
  {
   "cell_type": "code",
   "execution_count": 1,
   "metadata": {},
   "outputs": [
    {
     "name": "stdout",
     "output_type": "stream",
     "text": [
      "pandas = 1.4.4\n",
      "numpy = 1.23.4\n"
     ]
    },
    {
     "name": "stderr",
     "output_type": "stream",
     "text": [
      "/Users/ruihanzhang/opt/anaconda3/envs/netAna/lib/python3.8/site-packages/sklearn/preprocessing/_data.py:258: UserWarning: Numerical issues were encountered when scaling the data and might not be solved. The standard deviation of the data is probably very close to 0. \n",
      "  warnings.warn(\n"
     ]
    }
   ],
   "source": [
    "import pandas as pd\n",
    "import numpy as np\n",
    "import matplotlib.pyplot as plt\n",
    "from sklearn import ensemble, preprocessing\n",
    "from sklearn.model_selection import train_test_split\n",
    "\n",
    "print('pandas =', pd.__version__)\n",
    "print('numpy =', np.__version__)\n",
    "\n",
    "# Read data and preprocessing\n",
    "X1 = pd.read_csv('./JNSM_VoD_flashcrowd_1/X.csv').drop(columns=['TimeStamp','Unnamed: 0'])\n",
    "X2 = pd.read_csv('./JNSM_VoD_flashcrowd_2/X.csv').drop(columns=['TimeStamp','Unnamed: 0'])\n",
    "X = pd.concat([X1,X2])\n",
    "y1 = pd.read_csv('./JNSM_VoD_flashcrowd_1/Y.csv')['DispFrames']\n",
    "y2 = pd.read_csv('./JNSM_VoD_flashcrowd_2/Y.csv')['DispFrames']\n",
    "y = pd.concat([y1,y2]).to_numpy()\n",
    "select = np.load('select_VoD.npy')\n",
    "\n",
    "# X1 = pd.read_csv('./JNSM_KV_flashcrowd_1/X.csv').drop(columns=['TimeStamp','Unnamed: 0'])\n",
    "# X2 = pd.read_csv('./JNSM_KV_flashcrowd_2/X.csv').drop(columns=['TimeStamp','Unnamed: 0'])\n",
    "# X = pd.concat([X1,X2])\n",
    "# y1 = pd.read_csv('./JNSM_KV_flashcrowd_1/Y.csv')['ReadsAvg']\n",
    "# y2 = pd.read_csv('./JNSM_KV_flashcrowd_2/Y.csv')['ReadsAvg']\n",
    "# y = pd.concat([y1,y2]).to_numpy()\n",
    "# select = np.load('select_KV.npy')\n",
    "\n",
    "del(X1,X2, y1, y2)\n",
    "\n",
    "# standardization\n",
    "X = preprocessing.scale(X, axis=0)"
   ]
  },
  {
   "cell_type": "markdown",
   "metadata": {},
   "source": [
    "### Standard preprocessing pipeline for every task\n",
    "\n",
    "- Reduce the number of features in the data set to 16 through tree-based feature selection.\n",
    "- Apply one of the methods described in Project 1, Task 1 to pre-process the trace.\n",
    "- Remove possible outliers.\n",
    "- Use random forest regression (20 trees) for prediction and measure prediction error in NMAE."
   ]
  },
  {
   "cell_type": "code",
   "execution_count": 13,
   "metadata": {},
   "outputs": [
    {
     "name": "stdout",
     "output_type": "stream",
     "text": [
      "1\n",
      "2\n",
      "a\n",
      "s\n",
      "d\n",
      "b\n",
      "g\n",
      "r\n"
     ]
    }
   ],
   "source": [
    "a = '12asdbgr'\n",
    "\n",
    "for x in a:\n",
    "    print(x)"
   ]
  },
  {
   "cell_type": "code",
   "execution_count": 6,
   "metadata": {},
   "outputs": [],
   "source": [
    "# feature selection algorithm\n",
    "# regr = ensemble.ExtraTreesRegressor(n_jobs=-1)\n",
    "# regr.fit(X, y)\n",
    "# select = np.argsort(regr.feature_importances_)[-16:]\n",
    "# np.save(\"select_KV\", select)"
   ]
  },
  {
   "cell_type": "code",
   "execution_count": 2,
   "metadata": {},
   "outputs": [
    {
     "name": "stdout",
     "output_type": "stream",
     "text": [
      "Removed outliers:  341\n",
      "Selected features:  16\n"
     ]
    }
   ],
   "source": [
    "# out-lier removal, \n",
    "T = 54 # VoD 54\n",
    "X_cut = X[(np.abs(X) < T).all(axis=1)]\n",
    "y_cut = y[(np.abs(X) < T).all(axis=1)]\n",
    "num = X.shape[0] - X_cut.shape[0]\n",
    "print('Removed outliers: ', num)\n",
    "# select top features\n",
    "X_cut = X_cut[:,select]\n",
    "print('Selected features: ', len(select))"
   ]
  },
  {
   "cell_type": "code",
   "execution_count": 3,
   "metadata": {},
   "outputs": [],
   "source": [
    "# our evaluating metric: Normalized Mean Absolute Error\n",
    "def NMAE(y_true, y_pred):\n",
    "    return abs(y_true - y_pred).mean() / abs(y_pred).mean()"
   ]
  },
  {
   "cell_type": "markdown",
   "metadata": {},
   "source": [
    "### 1.1 Offline and online learning on a small-size training set"
   ]
  },
  {
   "cell_type": "code",
   "execution_count": 51,
   "metadata": {},
   "outputs": [
    {
     "name": "stdout",
     "output_type": "stream",
     "text": [
      "NMAE for n = 32 is:0.1138614256084152 \n",
      "NMAE for n = 128 is:0.10764801206257076 \n",
      "NMAE for n = 512 is:0.10345155572144422 \n",
      "NMAE for n = 2048 is:0.09151705104262502 \n"
     ]
    }
   ],
   "source": [
    "error = np.zeros([4,10])\n",
    "for i, n in enumerate([32,128,512,2048]):\n",
    "    for j in range(10):\n",
    "        # train test split\n",
    "        X_train, X_test, y_train, y_test = train_test_split(X_cut, y_cut, train_size= n , test_size=1000)\n",
    "        # evaluation\n",
    "        regr = ensemble.RandomForestRegressor(n_estimators=20, n_jobs=-1)\n",
    "        regr.fit(X_train, y_train)\n",
    "        y_pred = regr.predict(X_test)\n",
    "        error[i,j] = NMAE(y_test, y_pred)\n",
    "    print('NMAE for n = {} is:{} '.format(n,error[i,:].mean()))"
   ]
  },
  {
   "cell_type": "code",
   "execution_count": 38,
   "metadata": {},
   "outputs": [
    {
     "name": "stderr",
     "output_type": "stream",
     "text": [
      "[Parallel(n_jobs=-1)]: Using backend ThreadingBackend with 8 concurrent workers.\n"
     ]
    },
    {
     "name": "stdout",
     "output_type": "stream",
     "text": [
      "70-30 split NMAE:  0.05056110105428017\n"
     ]
    },
    {
     "name": "stderr",
     "output_type": "stream",
     "text": [
      "[Parallel(n_jobs=-1)]: Done  20 out of  20 | elapsed:    0.7s finished\n",
      "[Parallel(n_jobs=8)]: Using backend ThreadingBackend with 8 concurrent workers.\n",
      "[Parallel(n_jobs=8)]: Done  20 out of  20 | elapsed:    0.0s finished\n"
     ]
    }
   ],
   "source": [
    "# train test split\n",
    "X_train, X_test, y_train, y_test = train_test_split(X_cut, y_cut, test_size=0.3)\n",
    "# evaluation\n",
    "regr = ensemble.RandomForestRegressor(n_estimators=20, n_jobs=-1, verbose=1)\n",
    "regr.fit(X_train, y_train)\n",
    "y_pred = regr.predict(X_test)\n",
    "line = NMAE(y_test, y_pred)\n",
    "print('70-30 split NMAE: ', line)"
   ]
  },
  {
   "cell_type": "code",
   "execution_count": 54,
   "metadata": {},
   "outputs": [
    {
     "data": {
      "image/png": "[encoded data removed]",
      "text/plain": [
       "<Figure size 432x288 with 1 Axes>"
      ]
     },
     "metadata": {
      "needs_background": "light"
     },
     "output_type": "display_data"
    }
   ],
   "source": [
    "x = [32,128,512,2048]\n",
    "y = error.mean(1)\n",
    "ci = 1.96 * np.std(error,axis=1)/np.sqrt(10)\n",
    "fig, ax = plt.subplots()\n",
    "ax.plot(x, y)\n",
    "ax.set_xscale(\"log\")\n",
    "ax.fill_between(x, (y-ci), (y+ci), color='b', alpha=.1)\n",
    "ax.axhline(line, color='g') \n",
    "plt.xticks([32,128,512,2048],['32','128','512','2048'])\n",
    "plt.ylabel('Prediction error')\n",
    "plt.xlabel('Training size (n)')\n"
   ]
  },
  {
   "cell_type": "markdown",
   "metadata": {},
   "source": [
    "### 1.2 Online learning on a small-size training set"
   ]
  },
  {
   "cell_type": "markdown",
   "metadata": {},
   "source": [
    "#### Dataset preparing"
   ]
  },
  {
   "cell_type": "code",
   "execution_count": 34,
   "metadata": {},
   "outputs": [
    {
     "name": "stdout",
     "output_type": "stream",
     "text": [
      "train size: 32, test size: 31273\n",
      "NMAE for n = 32 is:0.1879196585948372 \n",
      "train size: 128, test size: 30913\n",
      "NMAE for n = 128 is:0.1887883753868158 \n",
      "train size: 512, test size: 28731\n",
      "NMAE for n = 512 is:0.17590757001145937 \n",
      "train size: 2048, test size: 29924\n",
      "NMAE for n = 2048 is:0.1551976936523858 \n"
     ]
    }
   ],
   "source": [
    "T = 3000\n",
    "iter = 1000\n",
    "error = np.zeros([4,iter])\n",
    "\n",
    "for i, n in enumerate([32,128,512,2048]):\n",
    "    for j in range(iter): # number of repetitions\n",
    "        # initialize\n",
    "        t0 = np.random.randint(1,5001)\n",
    "        X_train = X_cut[t0:t0+n, :]\n",
    "        y_train = y_cut[t0:t0+n]\n",
    "        # revservoir_sampling\n",
    "        for t in range(n,T):\n",
    "            idx = np.random.randint(0,t)\n",
    "            if idx < n:\n",
    "                X_train[idx,:] = X_cut[t0+t,:]\n",
    "                y_train[idx] = y_cut[t0+t]\n",
    "        X_test = X_cut[t0+T:,:]\n",
    "        y_test = y_cut[t0+T:]\n",
    "\n",
    "        # # random sampling\n",
    "        # X_train, X_test, y_train, y_test = train_test_split(X_cut[t0:,:], y_cut[t0:], train_size= 3000 , shuffle=False)\n",
    "        # X_train, _, y_train, _ = train_test_split(X_train, y_train, train_size= n , shuffle=True)\n",
    "\n",
    "        # evaluation\n",
    "        regr = ensemble.RandomForestRegressor(n_estimators=20, n_jobs=-1)\n",
    "        regr.fit(X_train, y_train)\n",
    "        y_pred = regr.predict(X_test)\n",
    "        error[i,j] = NMAE(y_test, y_pred)\n",
    "    print('train size: {}, test size: {}'.format(len(y_train), len(y_test)))\n",
    "    print('NMAE for n = {} is:{} '.format(n,error[i,:].mean()))"
   ]
  },
  {
   "cell_type": "code",
   "execution_count": 36,
   "metadata": {},
   "outputs": [
    {
     "data": {
      "image/png": "[encoded data removed]",
      "text/plain": [
       "<Figure size 432x288 with 1 Axes>"
      ]
     },
     "metadata": {
      "needs_background": "light"
     },
     "output_type": "display_data"
    }
   ],
   "source": [
    "x = [32,128,512,2048]\n",
    "y = error.mean(1)\n",
    "ci = 1.96 * np.std(error,axis=1)/np.sqrt(iter)\n",
    "fig, ax = plt.subplots()\n",
    "ax.plot(x, y)\n",
    "ax.set_xscale(\"log\")\n",
    "ax.fill_between(x, (y-ci), (y+ci), color='b', alpha=.1)\n",
    "# ax.plot([32, 2048], [line, line])\n",
    "# ax.set_ylim(0)\n",
    "plt.ylabel('Prediction error')\n",
    "plt.xlabel('Training size (n)')\n",
    "plt.xticks(x, ['32','128','512','2048'])\n",
    "plt.show()"
   ]
  },
  {
   "cell_type": "code",
   "execution_count": 16,
   "metadata": {},
   "outputs": [],
   "source": [
    "np.save('T1.2_error', error)"
   ]
  },
  {
   "cell_type": "markdown",
   "metadata": {},
   "source": [
    "### Task II\n",
    "\n",
    "Online learning with periodic model re-computation"
   ]
  },
  {
   "cell_type": "code",
   "execution_count": 17,
   "metadata": {},
   "outputs": [],
   "source": [
    "def rs_update(t0, index, cache):\n",
    "    rgn = np.random.randint(0, index-t0) # random generated number\n",
    "    if rgn < len(cache):\n",
    "        cache[rgn] = index\n",
    "    return cache"
   ]
  },
  {
   "cell_type": "code",
   "execution_count": 18,
   "metadata": {},
   "outputs": [],
   "source": [
    "def predict(X_train, y_train, X_test):\n",
    "    regr = ensemble.RandomForestRegressor(n_estimators=20, n_jobs=-1)\n",
    "    regr.fit(X_train, y_train)\n",
    "    return regr.predict(X_test)"
   ]
  },
  {
   "cell_type": "code",
   "execution_count": 28,
   "metadata": {},
   "outputs": [
    {
     "name": "stdout",
     "output_type": "stream",
     "text": [
      "NMAE for n = 32, Tc = 100 is:0.1251481401539707 \n",
      "NMAE for n = 32, Tc = 200 is:0.1271308931952381 \n",
      "NMAE for n = 32, Tc = 500 is:0.12973623103141696 \n",
      "NMAE for n = 32, Tc = 1000 is:0.11896020008997106 \n",
      "NMAE for n = 32, Tc = 2000 is:0.1303830129997219 \n",
      "NMAE for n = 128, Tc = 100 is:0.12640051899504248 \n",
      "NMAE for n = 128, Tc = 200 is:0.1182859153766183 \n",
      "NMAE for n = 128, Tc = 500 is:0.12086228497147837 \n",
      "NMAE for n = 128, Tc = 1000 is:0.11803300601077696 \n",
      "NMAE for n = 128, Tc = 2000 is:0.1214202225735398 \n",
      "NMAE for n = 512, Tc = 100 is:0.11339528301917574 \n",
      "NMAE for n = 512, Tc = 200 is:0.11465870361774311 \n",
      "NMAE for n = 512, Tc = 500 is:0.1139359677733099 \n",
      "NMAE for n = 512, Tc = 1000 is:0.11872620302658418 \n",
      "NMAE for n = 512, Tc = 2000 is:0.11764722012055344 \n",
      "NMAE for n = 2048, Tc = 100 is:0.10842363310885747 \n",
      "NMAE for n = 2048, Tc = 200 is:0.10895427104034956 \n",
      "NMAE for n = 2048, Tc = 500 is:0.11324136098951314 \n",
      "NMAE for n = 2048, Tc = 1000 is:0.11384179192076486 \n",
      "NMAE for n = 2048, Tc = 2000 is:0.11700309860408911 \n"
     ]
    }
   ],
   "source": [
    "T = 3000\n",
    "error = np.zeros([4,5])\n",
    "\n",
    "for i, n in enumerate([32,128,512,2048]):\n",
    "    for j, Tc in enumerate([100,200,500,1000,2000]):\n",
    "        err = []\n",
    "        for _ in range(10): # number of repetitive experiments\n",
    "            # initialize\n",
    "            t0 = np.random.randint(0,5000)\n",
    "            cache = np.arange(t0, t0+n)\n",
    "\n",
    "            # reservoir sampling\n",
    "            for t in range(t0+n,t0+T):\n",
    "                cache = rs_update(t0, t, cache)\n",
    "            t += 1\n",
    "\n",
    "            # retrieve the data    \n",
    "            X_train = X_cut[cache,:]\n",
    "            y_train = y_cut[cache]\n",
    "\n",
    "            # test set\n",
    "            X_test = X_cut[t:t+Tc,:]\n",
    "            prediction = predict(X_train, y_train, X_test)\n",
    "\n",
    "            ### periodic training till the end\n",
    "            while(t+Tc < len(y_cut)):\n",
    "                # revservoir sampling\n",
    "                for t in range(t,t+Tc):\n",
    "                    cache = rs_update(t0, t, cache)\n",
    "                # retrieve the data  \n",
    "                t += 1\n",
    "                X_train = X_cut[cache,:]\n",
    "                y_train = y_cut[cache]\n",
    "                # define test set\n",
    "                X_test = X_cut[t:t+Tc,:]\n",
    "                prediction = np.concatenate( [prediction, predict(X_train, y_train, X_test)] )\n",
    "            err.append( NMAE(y_cut[t0+T:], prediction)) \n",
    "        # print('test size: {}'.format(len(prediction)))\n",
    "        error[i,j] = sum(err) / len(err)\n",
    "        print('NMAE for n = {}, Tc = {} is:{} '.format(n,Tc,error[i,j]))"
   ]
  },
  {
   "cell_type": "code",
   "execution_count": 33,
   "metadata": {},
   "outputs": [
    {
     "data": {
      "text/plain": [
       "Text(0.5, 0, 'Training size (n)')"
      ]
     },
     "execution_count": 33,
     "metadata": {},
     "output_type": "execute_result"
    },
    {
     "data": {
      "image/png": "[encoded data removed]",
      "text/plain": [
       "<Figure size 432x288 with 1 Axes>"
      ]
     },
     "metadata": {
      "needs_background": "light"
     },
     "output_type": "display_data"
    }
   ],
   "source": [
    "x = [32,128,512,2048]\n",
    "y1 = error\n",
    "fig, ax = plt.subplots()\n",
    "ax.plot(x, y1[:,0], label='$T_C = 100$')\n",
    "ax.plot(x, y1[:,1], label='$T_C = 200$')\n",
    "ax.plot(x, y1[:,2], label='$T_C = 500$')\n",
    "ax.plot(x, y1[:,3], label='$T_C = 1000$')\n",
    "ax.plot(x, y1[:,4], label='$T_C = 2000$')\n",
    "y2 = np.load('T1.2_error.npy').mean(1)\n",
    "ax.plot(x, y2, 'k--', label='Task 1.2')\n",
    "\n",
    "ax.set_xscale(\"log\")\n",
    "plt.xticks([32,128,512,2048],['32','128','512','2048'])\n",
    "plt.legend()\n",
    "\n",
    "plt.ylabel('Prediction error')\n",
    "plt.xlabel('Training size (n)')"
   ]
  },
  {
   "cell_type": "code",
   "execution_count": 36,
   "metadata": {},
   "outputs": [
    {
     "data": {
      "text/plain": [
       "Text(0.5, 0, 'Training size (n)')"
      ]
     },
     "execution_count": 36,
     "metadata": {},
     "output_type": "execute_result"
    },
    {
     "data": {
      "image/png": "[encoded data removed]",
      "text/plain": [
       "<Figure size 432x288 with 1 Axes>"
      ]
     },
     "metadata": {
      "needs_background": "light"
     },
     "output_type": "display_data"
    }
   ],
   "source": [
    "x = [32,128,512,2048]\n",
    "y3 = np.load('T2.100times.npy')\n",
    "fig, ax = plt.subplots()\n",
    "ax.plot(x, y3[:,0], label='$T_C = 100$')\n",
    "ax.plot(x, y3[:,1], label='$T_C = 200$')\n",
    "ax.plot(x, y3[:,2], label='$T_C = 500$')\n",
    "ax.plot(x, y3[:,3], label='$T_C = 1000$')\n",
    "ax.plot(x, y3[:,4], label='$T_C = 2000$')\n",
    "ax.set_xscale(\"log\")\n",
    "plt.xticks([32,128,512,2048],['32','128','512','2048'])\n",
    "plt.legend()\n",
    "\n",
    "plt.ylabel('Prediction error')\n",
    "plt.xlabel('Training size (n)')"
   ]
  }
 ],
 "metadata": {
  "kernelspec": {
   "display_name": "Python 3.8.13 ('netAna')",
   "language": "python",
   "name": "python3"
  },
  "language_info": {
   "codemirror_mode": {
    "name": "ipython",
    "version": 3
   },
   "file_extension": ".py",
   "mimetype": "text/x-python",
   "name": "python",
   "nbconvert_exporter": "python",
   "pygments_lexer": "ipython3",
   "version": "3.8.13 (default, Oct 19 2022, 17:52:09) \n[Clang 12.0.0 ]"
  },
  "orig_nbformat": 4,
  "vscode": {
   "interpreter": {
    "hash": "7e828c3945791a69a0ce6012397f71cd52c10e2c8f47c75a6c8970ce99c90e71"
   }
  }
 },
 "nbformat": 4,
 "nbformat_minor": 2
}
