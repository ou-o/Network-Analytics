{
 "cells": [
  {
   "cell_type": "code",
   "execution_count": 2,
   "metadata": {},
   "outputs": [
    {
     "name": "stdout",
     "output_type": "stream",
     "text": [
      "pandas = 1.4.4\n",
      "numpy = 1.23.4\n"
     ]
    },
    {
     "name": "stderr",
     "output_type": "stream",
     "text": [
      "/Users/ruihanzhang/opt/anaconda3/envs/netAna/lib/python3.8/site-packages/sklearn/preprocessing/_data.py:258: UserWarning: Numerical issues were encountered when scaling the data and might not be solved. The standard deviation of the data is probably very close to 0. \n",
      "  warnings.warn(\n"
     ]
    }
   ],
   "source": [
    "import pandas as pd\n",
    "import numpy as np\n",
    "import matplotlib.pyplot as plt\n",
    "import seaborn as sns\n",
    "from sklearn import ensemble, preprocessing\n",
    "from sklearn.model_selection import train_test_split\n",
    "from sklearn import cluster\n",
    "from skmultiflow.drift_detection.adwin import ADWIN\n",
    "\n",
    "import seaborn as sns\n",
    "\n",
    "print('pandas =', pd.__version__)\n",
    "print('numpy =', np.__version__)\n",
    "\n",
    "# Read data and preprocessing\n",
    "X1 = pd.read_csv('./data/JNSM_VoD_flashcrowd_1/X.csv').drop(columns=['TimeStamp','Unnamed: 0'])\n",
    "X2 = pd.read_csv('./data/JNSM_VoD_flashcrowd_2/X.csv').drop(columns=['TimeStamp','Unnamed: 0'])\n",
    "X = pd.concat([X1,X2])\n",
    "y1 = pd.read_csv('./data/JNSM_VoD_flashcrowd_1/Y.csv')['DispFrames']\n",
    "y2 = pd.read_csv('./data/JNSM_VoD_flashcrowd_2/Y.csv')['DispFrames']\n",
    "y = pd.concat([y1,y2]).to_numpy()\n",
    "select = np.load('select_VoD.npy')\n",
    "\n",
    "# X1 = pd.read_csv('./JNSM_KV_flashcrowd_1/X.csv').drop(columns=['TimeStamp','Unnamed: 0'])\n",
    "# X2 = pd.read_csv('./JNSM_KV_flashcrowd_2/X.csv').drop(columns=['TimeStamp','Unnamed: 0'])\n",
    "# X = pd.concat([X1,X2])\n",
    "# y1 = pd.read_csv('./JNSM_KV_flashcrowd_1/Y.csv')['ReadsAvg']\n",
    "# y2 = pd.read_csv('./JNSM_KV_flashcrowd_2/Y.csv')['ReadsAvg']\n",
    "# y = pd.concat([y1,y2]).to_numpy()\n",
    "# select = np.load('select_KV.npy')\n",
    "\n",
    "del(X1,X2, y1, y2)\n",
    "\n",
    "# standardization\n",
    "X = preprocessing.scale(X, axis=0)"
   ]
  },
  {
   "cell_type": "code",
   "execution_count": 2,
   "metadata": {},
   "outputs": [
    {
     "name": "stdout",
     "output_type": "stream",
     "text": [
      "Removed outliers:  341\n",
      "Selected features:  16\n"
     ]
    }
   ],
   "source": [
    "# out-lier removal, \n",
    "T = 54 # VoD 54\n",
    "X_cut = X[(np.abs(X) < T).all(axis=1)]\n",
    "y_cut = y[(np.abs(X) < T).all(axis=1)]\n",
    "num = X.shape[0] - X_cut.shape[0]\n",
    "print('Removed outliers: ', num)\n",
    "# select top features\n",
    "X_cut = X_cut[:,select]\n",
    "print('Selected features: ', len(select))"
   ]
  },
  {
   "cell_type": "code",
   "execution_count": 3,
   "metadata": {},
   "outputs": [],
   "source": [
    "# our evaluating metric: Normalized Mean Absolute Error\n",
    "def NMAE(y_true, y_pred):\n",
    "    return abs(y_true - y_pred).mean() / abs(y_pred).mean()"
   ]
  },
  {
   "cell_type": "code",
   "execution_count": 4,
   "metadata": {},
   "outputs": [],
   "source": [
    "def rs_update(t0, index, cache):\n",
    "    rgn = np.random.randint(0, index-t0) # random generated number\n",
    "    if rgn < len(cache):\n",
    "        cache[rgn] = index\n",
    "    return cache"
   ]
  },
  {
   "cell_type": "code",
   "execution_count": 319,
   "metadata": {},
   "outputs": [],
   "source": [
    "def detect_drift( t, drift_points, ph ):\n",
    "    # train teacher and student with previous 1000 samples\n",
    "    X_train = X_cut[t-1000:t,:]\n",
    "    y_train = y_cut[t-1000:t]\n",
    "    teacher.fit(X_train, y_train)\n",
    "    y_teacher = teacher.predict(X_train)\n",
    "    student.fit(X_train, y_teacher)\n",
    "    # detect all remainings together\n",
    "    predict1 = teacher.predict(X_cut[t:,:])\n",
    "    predict2 = student.predict(X_cut[t:,:])\n",
    "    loss = np.abs(predict1 - predict2) / predict1\n",
    "    \n",
    "    for idx, li in enumerate(loss):\n",
    "        ph.add_element(li)\n",
    "        if ph.detected_change():\n",
    "            drift_points.append(t+idx)\n",
    "            detect_drift(t+idx , drift_points, ph)\n",
    "            break # this break is important, ensure we only use the first detected point"
   ]
  },
  {
   "cell_type": "code",
   "execution_count": 172,
   "metadata": {},
   "outputs": [],
   "source": [
    "def detect_drift_adwin( t, delta=0.002):\n",
    "    candidates = []\n",
    "    for i in range(16):\n",
    "        adwin = ADWIN(delta)\n",
    "        data_stream = X_cut[t:,i]\n",
    "        for j in range(len(data_stream)):\n",
    "            adwin.add_element(data_stream[j])\n",
    "            if adwin.detected_change():\n",
    "                # print('Change detected in data: ' + str(data_stream[i]) + ' - at index: ' + str(i))\n",
    "                candidates.append(t+j)\n",
    "    return sorted(candidates)"
   ]
  },
  {
   "cell_type": "code",
   "execution_count": 160,
   "metadata": {},
   "outputs": [],
   "source": [
    "def elect_adaptive_window( candidates, window_size=50, threshold=28, min_distance=100, delta=0.002):\n",
    "    current = []\n",
    "    points = []\n",
    "    step_count = 0\n",
    "    for i in range(len(candidates)):\n",
    "        right = candidates[i]\n",
    "\n",
    "        if step_count > 0:\n",
    "            step_count -= 1\n",
    "            continue\n",
    "\n",
    "        current.append(right)\n",
    "        while current[0] < right-window_size: \n",
    "            current.pop(0)\n",
    "        \n",
    "        if len(current) > threshold:\n",
    "            points.append(current[0])\n",
    "            current.clear()\n",
    "            step_count = min_distance\n",
    "    return points"
   ]
  },
  {
   "cell_type": "code",
   "execution_count": 310,
   "metadata": {},
   "outputs": [
    {
     "name": "stdout",
     "output_type": "stream",
     "text": [
      "15\n"
     ]
    }
   ],
   "source": [
    "# Periodic\n",
    "drift_points_periodic = [i for i in range(5500, 35000, 2000)]\n",
    "print(len(drift_points_periodic))"
   ]
  },
  {
   "cell_type": "code",
   "execution_count": 327,
   "metadata": {},
   "outputs": [
    {
     "name": "stdout",
     "output_type": "stream",
     "text": [
      "detected: 15\n"
     ]
    }
   ],
   "source": [
    "# Teacher student\n",
    "from skmultiflow.drift_detection import PageHinkley\n",
    "teacher = ensemble.RandomForestRegressor(n_estimators=20, n_jobs=-1, random_state=42, warm_start=False)\n",
    "student = ensemble.RandomForestRegressor(n_estimators=20, n_jobs=-1, random_state=42, warm_start=False)\n",
    "ph = PageHinkley(min_instances=100 ,delta=0.001 , threshold=7.4)\n",
    "drift_points_STUDD = []\n",
    "detect_drift(5500, drift_points_STUDD, ph)\n",
    "print('detected: {}'.format(len(drift_points_STUDD)))"
   ]
  },
  {
   "cell_type": "code",
   "execution_count": 311,
   "metadata": {},
   "outputs": [
    {
     "name": "stdout",
     "output_type": "stream",
     "text": [
      "15\n"
     ]
    }
   ],
   "source": [
    "# ADWIN with kmeans\n",
    "candidates = detect_drift_adwin(5500)\n",
    "centers, _, _ = cluster.k_means(np.array(candidates).reshape(-1, 1), n_clusters=15)\n",
    "drift_points_adwin1 = np.sort(centers.squeeze().astype(int))\n",
    "print(len(drift_points_adwin1))"
   ]
  },
  {
   "cell_type": "code",
   "execution_count": 303,
   "metadata": {},
   "outputs": [
    {
     "name": "stdout",
     "output_type": "stream",
     "text": [
      "15\n"
     ]
    }
   ],
   "source": [
    "# ADWIN with our election method\n",
    "candidates = detect_drift_adwin(5500)\n",
    "\n",
    "drift_points_adwin2 = elect_adaptive_window(candidates, 50, 29)\n",
    "\n",
    "# threshold=29, 15 points; threshold=25, 31 points\n",
    "\n",
    "print(len(drift_points_adwin2))"
   ]
  },
  {
   "cell_type": "code",
   "execution_count": 336,
   "metadata": {},
   "outputs": [],
   "source": [
    "## KV\n",
    "a = [5500, 7500, 9500, 11500, 13500, 15500, 17500, 19500, 21500, 23500, 25500, 27500]\n",
    "b = [8973, 11541, 14699, 16446, 16648, 16783, 19397, 21587, 24180, 24330, 24467, 27438]\n",
    "c = [6599, 8433, 9821, 11242, 13011, 14792, 17016, 19261, 21373, 23007, 24813, 26781]\n",
    "d = [5723, 7131, 8475, 9595, 11035, 12347, 13691, 14843, 16123, 17403, 19067, 21403, 24091] "
   ]
  },
  {
   "cell_type": "code",
   "execution_count": 372,
   "metadata": {},
   "outputs": [
    {
     "data": {
      "image/png": "[encoded data removed]",
      "text/plain": [
       "<Figure size 432x288 with 1 Axes>"
      ]
     },
     "metadata": {},
     "output_type": "display_data"
    }
   ],
   "source": [
    "## Compare drift points\n",
    "data1 = np.random.random([1, 15])\n",
    "plt.plot([5500,34659], [3,3])\n",
    "plt.plot([5500,34659], [1,1])\n",
    "plt.plot([5500,34659], [-1,-1])\n",
    "plt.plot([5500,34659], [-3,-3])\n",
    "plt.eventplot(np.arange(5500, 35000, 2000), lineoffsets=3, colors='C0')\n",
    "plt.eventplot(drift_points_STUDD, lineoffsets=1, colors='C1')\n",
    "plt.eventplot(drift_points_adwin1, lineoffsets=-1, colors='C2')\n",
    "plt.eventplot(drift_points_adwin2, lineoffsets=-3, colors='C3')\n",
    "plt.grid(False)\n",
    "plt.yticks([3,1,-1,-3], ['Periodic,\\n$T_C=2000$','STUDD','ADWIN\\nwith clustering','ADWIN\\nwith election'])\n",
    "plt.xlabel('time stamp')\n",
    "plt.show()"
   ]
  },
  {
   "cell_type": "code",
   "execution_count": 338,
   "metadata": {},
   "outputs": [
    {
     "data": {
      "image/png": "[encoded data removed]",
      "text/plain": [
       "<Figure size 432x288 with 1 Axes>"
      ]
     },
     "metadata": {},
     "output_type": "display_data"
    }
   ],
   "source": [
    "## KV Compare drift points\n",
    "data1 = np.random.random([1, 15])\n",
    "plt.plot([5500,27720], [3,3])\n",
    "plt.plot([5500,27720], [1,1])\n",
    "plt.plot([5500,27720], [-1,-1])\n",
    "plt.plot([5500,27720], [-3,-3])\n",
    "plt.eventplot(a, lineoffsets=3, colors='C0')\n",
    "plt.eventplot(b, lineoffsets=1, colors='C1')\n",
    "plt.eventplot(c, lineoffsets=-1, colors='C2')\n",
    "plt.eventplot(d, lineoffsets=-3, colors='C3')\n",
    "plt.grid(False)\n",
    "plt.yticks([3,1,-1,-3], ['Periodc, \\n $T_C=2000$','STUDD','ADWIN-1','ADWIN-2'])\n",
    "plt.xlabel('time stamp')\n",
    "plt.show()"
   ]
  },
  {
   "cell_type": "code",
   "execution_count": 349,
   "metadata": {},
   "outputs": [
    {
     "name": "stdout",
     "output_type": "stream",
     "text": [
      "NMAE:0.14194133364716202  for detected: [ 8474 10423 12392 14135 15954 17645 19342 21445 23304 25439 27255 29002\n",
      " 30551 32178 33790]\n"
     ]
    },
    {
     "name": "stderr",
     "output_type": "stream",
     "text": [
      "/Users/ruihanzhang/opt/anaconda3/envs/netAna/lib/python3.8/site-packages/skmultiflow/drift_detection/adwin.py:372: RuntimeWarning: invalid value encountered in sqrt\n",
      "  epsilon = np.sqrt(2 * m * v * dd) + 1. * 2 / 3 * dd * m\n",
      "/Users/ruihanzhang/opt/anaconda3/envs/netAna/lib/python3.8/site-packages/skmultiflow/drift_detection/adwin.py:372: RuntimeWarning: invalid value encountered in sqrt\n",
      "  epsilon = np.sqrt(2 * m * v * dd) + 1. * 2 / 3 * dd * m\n"
     ]
    },
    {
     "name": "stdout",
     "output_type": "stream",
     "text": [
      "NMAE:0.10707993418849042  for detected: [ 5744  8015 10214 12305 14294 16251 18239 19927 21831 23487 25644 27612\n",
      " 29657 31693 33688]\n"
     ]
    },
    {
     "name": "stderr",
     "output_type": "stream",
     "text": [
      "/Users/ruihanzhang/opt/anaconda3/envs/netAna/lib/python3.8/site-packages/skmultiflow/drift_detection/adwin.py:372: RuntimeWarning: invalid value encountered in sqrt\n",
      "  epsilon = np.sqrt(2 * m * v * dd) + 1. * 2 / 3 * dd * m\n"
     ]
    },
    {
     "name": "stdout",
     "output_type": "stream",
     "text": [
      "NMAE:0.1273079872965435  for detected: [ 8583 10428 12347 14149 15952 17580 19387 21397 23289 25460 27259 28870\n",
      " 30375 32102 33801]\n"
     ]
    },
    {
     "name": "stderr",
     "output_type": "stream",
     "text": [
      "/Users/ruihanzhang/opt/anaconda3/envs/netAna/lib/python3.8/site-packages/skmultiflow/drift_detection/adwin.py:372: RuntimeWarning: invalid value encountered in sqrt\n",
      "  epsilon = np.sqrt(2 * m * v * dd) + 1. * 2 / 3 * dd * m\n",
      "/Users/ruihanzhang/opt/anaconda3/envs/netAna/lib/python3.8/site-packages/skmultiflow/drift_detection/adwin.py:372: RuntimeWarning: invalid value encountered in sqrt\n",
      "  epsilon = np.sqrt(2 * m * v * dd) + 1. * 2 / 3 * dd * m\n"
     ]
    },
    {
     "name": "stdout",
     "output_type": "stream",
     "text": [
      "NMAE:0.12342799277739754  for detected: [ 8723 10508 12395 14129 15936 17665 19318 21408 23293 25436 27259 28999\n",
      " 30505 32130 33791]\n"
     ]
    }
   ],
   "source": [
    "## ADWIN with k-means clustering\n",
    "iter = 50\n",
    "error_1 = np.zeros([4,iter])\n",
    "\n",
    "for i, n in enumerate([32,128,512,2048]):\n",
    "    err = []\n",
    "    for j in range(iter):\n",
    "        # # initialize\n",
    "        t0 = np.random.randint(1,5001)\n",
    "        cache = np.arange(t0, t0+n)\n",
    "        for t in range(t0+n,t0+3000):\n",
    "            cache = rs_update(t0, t, cache)\n",
    "\n",
    "        ## ADWIN detection\n",
    "        candidates = detect_drift_adwin(t0+3000)\n",
    "        centers, _, _ = cluster.k_means(np.array(candidates).reshape(-1, 1), n_clusters=15)\n",
    "        drift_points = np.sort(centers.squeeze().astype(int))\n",
    "\n",
    "        # first model prediction\n",
    "        regr = ensemble.RandomForestRegressor(n_estimators=20, n_jobs=-1, warm_start=False)\n",
    "        regr.fit(X_cut[cache,:], y_cut[cache])\n",
    "\n",
    "        predictions = regr.predict(X_cut[t0+3000:,:])\n",
    "\n",
    "        # run model updating\n",
    "        left = t0+3000\n",
    "        for right in drift_points:\n",
    "            # revservoir sampling from current point to next detection point\n",
    "            for t in range(left,right):\n",
    "                cache = rs_update(t0, t, cache)\n",
    "            regr.fit(X_cut[cache,:], y_cut[cache])\n",
    "            predictions[right-t0-3000:] = regr.predict(X_cut[right:,:])\n",
    "            left = right\n",
    "        error_1[i,j] =  NMAE(y_cut[t0+3000:], predictions)\n",
    "    print('NMAE:{}  for detected: {}'.format(error_1[i,j], drift_points))"
   ]
  },
  {
   "cell_type": "code",
   "execution_count": 350,
   "metadata": {},
   "outputs": [
    {
     "name": "stdout",
     "output_type": "stream",
     "text": [
      "NMAE=0.14194133364716202, n=32, t0=2191,  detected: 18 points\n"
     ]
    },
    {
     "name": "stderr",
     "output_type": "stream",
     "text": [
      "/Users/ruihanzhang/opt/anaconda3/envs/netAna/lib/python3.8/site-packages/skmultiflow/drift_detection/adwin.py:372: RuntimeWarning: invalid value encountered in sqrt\n",
      "  epsilon = np.sqrt(2 * m * v * dd) + 1. * 2 / 3 * dd * m\n"
     ]
    },
    {
     "name": "stdout",
     "output_type": "stream",
     "text": [
      "NMAE=0.10707993418849042, n=128, t0=1669,  detected: 16 points\n"
     ]
    },
    {
     "name": "stderr",
     "output_type": "stream",
     "text": [
      "/Users/ruihanzhang/opt/anaconda3/envs/netAna/lib/python3.8/site-packages/skmultiflow/drift_detection/adwin.py:372: RuntimeWarning: invalid value encountered in sqrt\n",
      "  epsilon = np.sqrt(2 * m * v * dd) + 1. * 2 / 3 * dd * m\n"
     ]
    },
    {
     "name": "stdout",
     "output_type": "stream",
     "text": [
      "NMAE=0.1273079872965435, n=512, t0=1534,  detected: 17 points\n"
     ]
    },
    {
     "name": "stderr",
     "output_type": "stream",
     "text": [
      "/Users/ruihanzhang/opt/anaconda3/envs/netAna/lib/python3.8/site-packages/skmultiflow/drift_detection/adwin.py:372: RuntimeWarning: invalid value encountered in sqrt\n",
      "  epsilon = np.sqrt(2 * m * v * dd) + 1. * 2 / 3 * dd * m\n",
      "/Users/ruihanzhang/opt/anaconda3/envs/netAna/lib/python3.8/site-packages/skmultiflow/drift_detection/adwin.py:372: RuntimeWarning: invalid value encountered in sqrt\n",
      "  epsilon = np.sqrt(2 * m * v * dd) + 1. * 2 / 3 * dd * m\n"
     ]
    },
    {
     "name": "stdout",
     "output_type": "stream",
     "text": [
      "NMAE=0.12342799277739754, n=2048, t0=2145,  detected: 12 points\n"
     ]
    }
   ],
   "source": [
    "## ADWIN with our election method\n",
    "iter = 50\n",
    "error_2 = np.zeros([4,iter])\n",
    "\n",
    "for i, n in enumerate([32,128,512,2048]):\n",
    "    err = []\n",
    "    for j in range(iter):\n",
    "        # # initialize\n",
    "        t0 = np.random.randint(1,5001)\n",
    "        cache = np.arange(t0, t0+n)\n",
    "        for t in range(t0+n,t0+3000):\n",
    "            cache = rs_update(t0, t, cache)\n",
    "\n",
    "        ## ADWIN detection\n",
    "        candidates = detect_drift_adwin(t0+3000)\n",
    "        drift_points = elect_adaptive_window(candidates, 50, 29)\n",
    "\n",
    "        # first model prediction\n",
    "        regr = ensemble.RandomForestRegressor(n_estimators=20, random_state=0, n_jobs=-1)\n",
    "        regr.fit(X_cut[cache,:], y_cut[cache])\n",
    "\n",
    "        predictions = regr.predict(X_cut[t0+3000:,:])\n",
    "\n",
    "        # run model updating\n",
    "        left = t0+3000\n",
    "        for right in drift_points:\n",
    "            # revservoir sampling from current point to next detection point\n",
    "            for t in range(left,right):\n",
    "                cache = rs_update(t0, t, cache)\n",
    "            regr.fit(X_cut[cache,:], y_cut[cache])\n",
    "            predictions[right-t0-3000:] = regr.predict(X_cut[right:,:])\n",
    "            left = right\n",
    "        error_2[i,j] =  NMAE(y_cut[t0+3000:], predictions)\n",
    "    print('NMAE={}, n={}, t0={},  detected: {} points'.format(error_1[i,j], n, t0, len(drift_points)))"
   ]
  },
  {
   "cell_type": "code",
   "execution_count": 17,
   "metadata": {},
   "outputs": [
    {
     "data": {
      "image/png": "[encoded data removed]",
      "text/plain": [
       "<Figure size 864x432 with 1 Axes>"
      ]
     },
     "metadata": {
      "needs_background": "light"
     },
     "output_type": "display_data"
    }
   ],
   "source": [
    "x = [32,128,512,2048]\n",
    "\n",
    "plt.figure(figsize=(12,6))\n",
    "\n",
    "plt.plot(x, [0.1295, 0.1265, 0.124, 0.123], '-o', label=\"ADWIN-I\")\n",
    "\n",
    "plt.plot(x, [0.1245, 0.1223, 0.119, 0.1185], '-o', label=\"ADWIN-II\")\n",
    "\n",
    "y4 = np.load('T3 100times avg = 16.npy')\n",
    "plt.plot(x, y4.mean(1), label='STUDD')\n",
    "\n",
    "y2 = np.load('T1.2.200times.npy').mean(1)\n",
    "# plt.plot(x, y2, 'k--',label='T1.2')\n",
    "\n",
    "y3 = np.load('T2.100times.npy')\n",
    "# plt.plot(x, y3[:,0], label='$T_C = 100$')\n",
    "# plt.plot(x, y3[:,1], label='$T_C = 200$')\n",
    "# plt.plot(x, y3[:,2], label='$T_C = 500$')\n",
    "plt.plot(x, y3[:,3],'--', label='Periodic, $T_C = 1000$')\n",
    "plt.plot(x, y3[:,4],'--', label='Periodic, $T_C = 2000$')\n",
    "\n",
    "plt.xscale('log')\n",
    "plt.xticks(x, ['32','128','512','2048'])\n",
    "plt.ylabel('Prediction error')\n",
    "plt.xlabel('Training size (n)')\n",
    "plt.ylim(top=0.132)\n",
    "plt.legend()\n",
    "plt.show()"
   ]
  }
 ],
 "metadata": {
  "kernelspec": {
   "display_name": "Python 3.8.13 ('netAna')",
   "language": "python",
   "name": "python3"
  },
  "language_info": {
   "codemirror_mode": {
    "name": "ipython",
    "version": 3
   },
   "file_extension": ".py",
   "mimetype": "text/x-python",
   "name": "python",
   "nbconvert_exporter": "python",
   "pygments_lexer": "ipython3",
   "version": "3.8.13"
  },
  "orig_nbformat": 4,
  "vscode": {
   "interpreter": {
    "hash": "7e828c3945791a69a0ce6012397f71cd52c10e2c8f47c75a6c8970ce99c90e71"
   }
  }
 },
 "nbformat": 4,
 "nbformat_minor": 2
}
